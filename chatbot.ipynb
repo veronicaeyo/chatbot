{
 "cells": [
  {
   "cell_type": "code",
   "execution_count": 1,
   "metadata": {},
   "outputs": [
    {
     "data": {
      "text/plain": [
       "True"
      ]
     },
     "execution_count": 1,
     "metadata": {},
     "output_type": "execute_result"
    }
   ],
   "source": [
    "# load .env\n",
    "from dotenv import load_dotenv\n",
    "load_dotenv()\n"
   ]
  },
  {
   "cell_type": "code",
   "execution_count": 2,
   "metadata": {},
   "outputs": [],
   "source": [
    "# set openai API key\n",
    "import os\n",
    "import openai\n",
    "openai.api_key = os.getenv(\"API_KEY\")\n"
   ]
  },
  {
   "cell_type": "code",
   "execution_count": 18,
   "metadata": {},
   "outputs": [
    {
     "ename": "KeyError",
     "evalue": "'messages'",
     "output_type": "error",
     "traceback": [
      "\u001b[1;31m---------------------------------------------------------------------------\u001b[0m",
      "\u001b[1;31mKeyError\u001b[0m                                  Traceback (most recent call last)",
      "Cell \u001b[1;32mIn[18], line 8\u001b[0m\n\u001b[0;32m      2\u001b[0m completion \u001b[39m=\u001b[39m openai\u001b[39m.\u001b[39mChatCompletion\u001b[39m.\u001b[39mcreate(\n\u001b[0;32m      3\u001b[0m     model\u001b[39m=\u001b[39m\u001b[39m\"\u001b[39m\u001b[39mgpt-3.5-turbo\u001b[39m\u001b[39m\"\u001b[39m,\n\u001b[0;32m      4\u001b[0m     messages\u001b[39m=\u001b[39m[{\u001b[39m\"\u001b[39m\u001b[39mrole\u001b[39m\u001b[39m\"\u001b[39m: \u001b[39m\"\u001b[39m\u001b[39muser\u001b[39m\u001b[39m\"\u001b[39m, \u001b[39m\"\u001b[39m\u001b[39mcontent\u001b[39m\u001b[39m\"\u001b[39m: \u001b[39m\"\u001b[39m\u001b[39mHow do I make banana bread\u001b[39m\u001b[39m\"\u001b[39m}]\n\u001b[0;32m      5\u001b[0m )\n\u001b[0;32m      7\u001b[0m \u001b[39m# get the contents from messages using list comprension\u001b[39;00m\n\u001b[1;32m----> 8\u001b[0m contents \u001b[39m=\u001b[39m [message[\u001b[39m'\u001b[39m\u001b[39mcontent\u001b[39m\u001b[39m'\u001b[39m] \u001b[39mfor\u001b[39;00m messages \u001b[39min\u001b[39;00m completion[\u001b[39m'\u001b[39m\u001b[39mmessages\u001b[39m\u001b[39m'\u001b[39m]]\n",
      "\u001b[1;31mKeyError\u001b[0m: 'messages'"
     ]
    }
   ],
   "source": [
    "# Create chat completion with gpt3.5\n",
    "completion = openai.ChatCompletion.create(\n",
    "    model=\"gpt-3.5-turbo\",\n",
    "    messages=[{\"role\": \"user\", \"content\": \"How do I make banana bread\"}]\n",
    ")\n"
   ]
  },
  {
   "cell_type": "code",
   "execution_count": 28,
   "metadata": {},
   "outputs": [
    {
     "name": "stdout",
     "output_type": "stream",
     "text": [
      "('Ingredients:\\n'\n",
      " '- 3 large ripe bananas, mashed\\n'\n",
      " '- 1/3 cup melted butter\\n'\n",
      " '- 1 teaspoon baking soda\\n'\n",
      " '- Pinch of salt\\n'\n",
      " '- 3/4 cup white sugar\\n'\n",
      " '- 1 large egg, beaten\\n'\n",
      " '- 1 teaspoon vanilla extract\\n'\n",
      " '- 1 1/2 cups all-purpose flour\\n'\n",
      " '\\n'\n",
      " 'Instructions:\\n'\n",
      " '1. Preheat oven to 350°F (175°C).\\n'\n",
      " '2. In a large mixing bowl, mash the bananas with a fork until smooth.\\n'\n",
      " '3. Stir in melted butter.\\n'\n",
      " '4. Add baking soda and salt. Mix well.\\n'\n",
      " '5. Stir in sugar, beaten egg, and vanilla extract.\\n'\n",
      " '6. Add flour and mix until just blended.\\n'\n",
      " '7. Pour batter into a greased 9x5 inch loaf pan.\\n'\n",
      " '8. Bake for 50-60 minutes or until a toothpick inserted in the center comes '\n",
      " 'out clean.\\n'\n",
      " '9. Let the banana bread cool in the pan for 10 minutes before removing it to '\n",
      " 'cool completely on a wire rack. \\n'\n",
      " '\\n'\n",
      " 'Enjoy your delicious banana bread!')\n"
     ]
    }
   ],
   "source": [
    "from pprint import pprint\n",
    "pprint(completion[\"choices\"][0][\"message\"][\"content\"])"
   ]
  },
  {
   "cell_type": "code",
   "execution_count": 31,
   "metadata": {},
   "outputs": [
    {
     "name": "stdout",
     "output_type": "stream",
     "text": [
      "user input was: how do i use seaweas to eat rice\n",
      "==================================================\n",
      "(\"Seaweeds are a popular and tasty way to add flavor to rice. Here's a simple \"\n",
      " 'recipe you can try:\\n'\n",
      " '\\n'\n",
      " 'Ingredients:\\n'\n",
      " '- Sushi rice \\n'\n",
      " '- Seaweed sheets \\n'\n",
      " '- Rice vinegar \\n'\n",
      " '- Salt \\n'\n",
      " '- Sugar \\n'\n",
      " '\\n'\n",
      " 'Instructions: \\n'\n",
      " '1. Wash the sushi rice thoroughly and cook it in a rice cooker or on the '\n",
      " 'stove following the package instructions. \\n'\n",
      " '2. While the rice is cooking, mix 2 tablespoons of rice vinegar, 1 teaspoon '\n",
      " 'of salt, and 1 tablespoon of sugar in a bowl, and stir until the sugar '\n",
      " 'dissolves. \\n'\n",
      " '3. Once the rice is cooked, pour the vinegar mixture over the rice while '\n",
      " \"it's still hot, and stir gently to mix. \\n\"\n",
      " '4. Lay out a sheet of seaweed on a flat surface with the rough side facing '\n",
      " 'up. Spoon the rice mixture onto the center of the seaweed sheet and spread '\n",
      " 'it out evenly, leaving a 1-inch border of seaweed around the edges. \\n'\n",
      " '5. Roll the seaweed and rice mixture tightly using a sushi mat or your '\n",
      " 'hands, making sure to press firmly to keep everything in place. \\n'\n",
      " '6. Slice the seaweed and rice roll into bite-sized pieces using a sharp '\n",
      " 'knife, and serve with soy sauce, wasabi, and pickled ginger, if desired. '\n",
      " 'Enjoy!')\n",
      "\n",
      "\n",
      "user input was: how do i make ekpang\n",
      "==================================================\n",
      "('Ekpang is a popular dish from the Efik and Ibibio tribes in Nigeria. It is a '\n",
      " 'delicious dish made with grated cocoyam, and is typically eaten with fish or '\n",
      " \"meat stew. Here's how you can make Ekpang:\\n\"\n",
      " '\\n'\n",
      " 'Ingredients:\\n'\n",
      " '- 8 medium sized cocoyam\\n'\n",
      " '- 2 cups grated and squeezed water from cocoyam\\n'\n",
      " '- 1 onion\\n'\n",
      " '- 2 red scotch bonnet pepper\\n'\n",
      " '- 2 stock cubes\\n'\n",
      " '- Salt to taste\\n'\n",
      " '- 1 -2 cups periwinkle\\n'\n",
      " '- Leaves of utazi or mkpuru-uziza\\n'\n",
      " '- Banana leaves or aluminum foil can be used\\n'\n",
      " '\\n'\n",
      " 'Instructions:\\n'\n",
      " '1. Peel the cocoyam and wash it thoroughly. Grate it and place it in a clean '\n",
      " 'bowl\\n'\n",
      " '2. Add some water into the grated cocoyam and squeeze out the water using '\n",
      " 'your hands. This process will help remove the liquid from the cocoyam\\n'\n",
      " '3. Add chopped onions and pepper to the grated cocoyam and mix. Add stock '\n",
      " 'cubes and salt to the mixture\\n'\n",
      " '4. Add periwinkle, and mix well\\n'\n",
      " '5. Wash the banana leaves and divide them into small pieces. \\n'\n",
      " '6. Place a small quantity of the grated mixture (using a spoon) in the '\n",
      " 'middle of each banana leaf. Fold the leaf over and secure it tightly with a '\n",
      " 'string.\\n'\n",
      " '7. Repeat the process until you have used all the grated mixture.\\n'\n",
      " '8. Place the wrapped Ekpang into a pot of boiling water or a steamer and '\n",
      " 'steam for about 45 minutes to 1 hour.\\n'\n",
      " '9. Serve hot with any soup or stew of your choice. You can garnish the '\n",
      " 'Ekpang with utazi or mkpuru-uziza leaves. Enjoy!\\n'\n",
      " '\\n'\n",
      " 'Cooking Tip: In the absence of banana leaves, you can use aluminum foil to '\n",
      " 'wrap the Ekpang.')\n",
      "\n",
      "\n"
     ]
    }
   ],
   "source": [
    "def chat(user_input: str, message_history=[]):\n",
    "    message_history.append({\"role\": \"system\", \"content\": \"you are a 5 star chef\"})\n",
    "    message_history.append({\"role\": \"user\", \"content\": user_input})\n",
    "\n",
    "    completion = openai.ChatCompletion.create(\n",
    "        model=\"gpt-3.5-turbo\",\n",
    "        messages=message_history,\n",
    "    )\n",
    "\n",
    "    reply_content = completion[\"choices\"][0][\"message\"][\"content\"]\n",
    "\n",
    "    message_history.append({\"role\": \"assistant\", \"content\": reply_content})\n",
    "\n",
    "    return reply_content\n",
    "\n",
    "\n",
    "for _ in range(2):\n",
    "    user_input = input()\n",
    "    print(f\"user input was: {user_input}\")\n",
    "    print(\"==\" * 25)\n",
    "    pprint(chat(user_input))\n",
    "    print(\"\\n\")\n"
   ]
  }
 ],
 "metadata": {
  "kernelspec": {
   "display_name": "openai",
   "language": "python",
   "name": "python3"
  },
  "language_info": {
   "codemirror_mode": {
    "name": "ipython",
    "version": 3
   },
   "file_extension": ".py",
   "mimetype": "text/x-python",
   "name": "python",
   "nbconvert_exporter": "python",
   "pygments_lexer": "ipython3",
   "version": "3.11.3"
  },
  "orig_nbformat": 4
 },
 "nbformat": 4,
 "nbformat_minor": 2
}
