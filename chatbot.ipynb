{
 "cells": [
  {
   "cell_type": "code",
   "execution_count": 26,
   "metadata": {},
   "outputs": [
    {
     "name": "stdout",
     "output_type": "stream",
     "text": [
      "['Veronica']\n"
     ]
    }
   ],
   "source": [
    "test = []\n",
    "\n",
    "def test_fn(a_string):\n",
    "    global test\n",
    "    test += [a_string]\n",
    "    print(test)\n",
    "    \n",
    "test_fn(\"Veronica\")\n"
   ]
  },
  {
   "cell_type": "code",
   "execution_count": 19,
   "metadata": {},
   "outputs": [
    {
     "data": {
      "text/plain": [
       "[]"
      ]
     },
     "execution_count": 19,
     "metadata": {},
     "output_type": "execute_result"
    }
   ],
   "source": [
    "test"
   ]
  },
  {
   "cell_type": "code",
   "execution_count": 12,
   "metadata": {},
   "outputs": [
    {
     "data": {
      "text/plain": [
       "'Africa'"
      ]
     },
     "execution_count": 12,
     "metadata": {},
     "output_type": "execute_result"
    }
   ],
   "source": [
    "import random \n",
    "\n",
    "random.choice(('Nigeria', 'Africa'))"
   ]
  },
  {
   "cell_type": "code",
   "execution_count": 20,
   "metadata": {},
   "outputs": [
    {
     "data": {
      "text/plain": [
       "[2, 3]"
      ]
     },
     "execution_count": 20,
     "metadata": {},
     "output_type": "execute_result"
    }
   ],
   "source": [
    "vero = [2]\n",
    "vero.append(3)\n",
    "vero"
   ]
  },
  {
   "cell_type": "code",
   "execution_count": 21,
   "metadata": {},
   "outputs": [
    {
     "name": "stdout",
     "output_type": "stream",
     "text": [
      "2\n",
      "4\n"
     ]
    }
   ],
   "source": [
    "a, b = [2, 4]\n",
    "print(a)\n",
    "print(b)"
   ]
  },
  {
   "cell_type": "code",
   "execution_count": 1,
   "metadata": {},
   "outputs": [
    {
     "name": "stdout",
     "output_type": "stream",
     "text": [
      "3\n"
     ]
    }
   ],
   "source": [
    "def add(a, b):\n",
    "    return a + b\n",
    "\n",
    "print(add(1, 2))"
   ]
  },
  {
   "cell_type": "code",
   "execution_count": 2,
   "metadata": {},
   "outputs": [
    {
     "name": "stdout",
     "output_type": "stream",
     "text": [
      "6\n"
     ]
    }
   ],
   "source": [
    "print(add(2, 4))"
   ]
  },
  {
   "cell_type": "code",
   "execution_count": 31,
   "metadata": {},
   "outputs": [],
   "source": [
    "def fn(a, b):\n",
    "    yield a + b\n",
    "    yield a * b\n",
    "    # return a + b, a * b\n",
    "\n",
    "# for val in fn(2, 3):\n",
    "#     print(val) "
   ]
  },
  {
   "cell_type": "code",
   "execution_count": 32,
   "metadata": {},
   "outputs": [
    {
     "data": {
      "text/plain": [
       "<generator object fn at 0x7f08fa7bb780>"
      ]
     },
     "execution_count": 32,
     "metadata": {},
     "output_type": "execute_result"
    }
   ],
   "source": [
    "val = fn(2,3)\n",
    "val "
   ]
  },
  {
   "cell_type": "code",
   "execution_count": 18,
   "metadata": {},
   "outputs": [
    {
     "data": {
      "text/plain": [
       "[1, 2]"
      ]
     },
     "execution_count": 18,
     "metadata": {},
     "output_type": "execute_result"
    }
   ],
   "source": [
    "[1] + [2]"
   ]
  },
  {
   "cell_type": "code",
   "execution_count": 1,
   "metadata": {},
   "outputs": [
    {
     "data": {
      "text/plain": [
       "True"
      ]
     },
     "execution_count": 1,
     "metadata": {},
     "output_type": "execute_result"
    }
   ],
   "source": [
    "# load .env\n",
    "import os\n",
    "from dotenv import load_dotenv\n",
    "from pprint import pprint\n",
    "\n",
    "import openai\n",
    "\n",
    "load_dotenv()\n"
   ]
  },
  {
   "cell_type": "code",
   "execution_count": 2,
   "metadata": {},
   "outputs": [],
   "source": [
    "# set openai API key\n",
    "openai.api_key = os.getenv(\"API_KEY\")\n"
   ]
  },
  {
   "cell_type": "code",
   "execution_count": 5,
   "metadata": {},
   "outputs": [],
   "source": [
    "transcript = openai.Audio.transcribe(\n",
    "    model=\"whisper-1\",\n",
    "    file=open(\"audio/record.mp3\", \"rb\"),\n",
    "    response_format=\"verbose_json\",\n",
    ")\n"
   ]
  },
  {
   "cell_type": "code",
   "execution_count": 1,
   "metadata": {},
   "outputs": [],
   "source": [
    "# transcript"
   ]
  },
  {
   "cell_type": "code",
   "execution_count": 7,
   "metadata": {},
   "outputs": [
    {
     "data": {
      "text/plain": [
       "'And this time we call it, hello, hello, hello.'"
      ]
     },
     "execution_count": 7,
     "metadata": {},
     "output_type": "execute_result"
    }
   ],
   "source": [
    "transcript['text']"
   ]
  },
  {
   "cell_type": "code",
   "execution_count": 13,
   "metadata": {},
   "outputs": [
    {
     "data": {
      "text/plain": [
       "3.0"
      ]
     },
     "execution_count": 13,
     "metadata": {},
     "output_type": "execute_result"
    }
   ],
   "source": [
    "import numpy as np\n",
    "np.ceil(2.2)"
   ]
  },
  {
   "cell_type": "code",
   "execution_count": 11,
   "metadata": {},
   "outputs": [
    {
     "data": {
      "text/plain": [
       "3"
      ]
     },
     "execution_count": 11,
     "metadata": {},
     "output_type": "execute_result"
    }
   ],
   "source": [
    "round(transcript[\"duration\"])"
   ]
  },
  {
   "cell_type": "code",
   "execution_count": 9,
   "metadata": {},
   "outputs": [
    {
     "data": {
      "text/plain": [
       "0.016440000000000003"
      ]
     },
     "execution_count": 9,
     "metadata": {},
     "output_type": "execute_result"
    }
   ],
   "source": [
    "transcript[\"duration\"] * 0.006 "
   ]
  },
  {
   "cell_type": "code",
   "execution_count": null,
   "metadata": {},
   "outputs": [],
   "source": []
  },
  {
   "cell_type": "code",
   "execution_count": null,
   "metadata": {},
   "outputs": [],
   "source": []
  },
  {
   "cell_type": "code",
   "execution_count": 3,
   "metadata": {},
   "outputs": [],
   "source": [
    "# Create chat completion with gpt3.5\n",
    "completion = openai.ChatCompletion.create(\n",
    "    model=\"gpt-3.5-turbo\",\n",
    "    messages=[{\"role\": \"user\", \"content\": \"How do I make banana bread\"}]\n",
    ")\n"
   ]
  },
  {
   "cell_type": "code",
   "execution_count": 11,
   "metadata": {},
   "outputs": [
    {
     "name": "stdout",
     "output_type": "stream",
     "text": [
      "0.000494\n"
     ]
    }
   ],
   "source": [
    "pprint(completion.usage.total_tokens * (0.002/1_000))"
   ]
  },
  {
   "cell_type": "code",
   "execution_count": 4,
   "metadata": {},
   "outputs": [
    {
     "name": "stdout",
     "output_type": "stream",
     "text": [
      "('Here is a simple recipe for making banana bread:\\n'\n",
      " '\\n'\n",
      " 'Ingredients:\\n'\n",
      " '- 3 ripe bananas\\n'\n",
      " '- 1/3 cup melted butter\\n'\n",
      " '- 1 teaspoon baking soda\\n'\n",
      " '- pinch of salt\\n'\n",
      " '- 3/4 cup sugar\\n'\n",
      " '- 1 egg, beaten\\n'\n",
      " '- 1 teaspoon vanilla extract\\n'\n",
      " '- 1 1/2 cups all-purpose flour\\n'\n",
      " '\\n'\n",
      " 'Directions:\\n'\n",
      " '1. Preheat your oven to 350°F (175°C). Grease a 9x5 inch loaf pan.\\n'\n",
      " '2. Mash the ripe bananas with a fork in a large mixing bowl.\\n'\n",
      " '3. Mix in the melted butter.\\n'\n",
      " '4. Add baking soda and salt. Stir until well combined.\\n'\n",
      " '5. Stir in the sugar, beaten egg, and vanilla extract.\\n'\n",
      " '6. Mix in the flour until just combined. Do not overmix.\\n'\n",
      " '7. Pour the mixture into the greased loaf pan.\\n'\n",
      " '8. Bake in preheated oven for 50-60 minutes, or until a toothpick inserted '\n",
      " 'into the center of the bread comes out clean.\\n'\n",
      " '9. Let the bread cool in the pan for 10 minutes before removing and '\n",
      " 'slicing.\\n'\n",
      " '\\n'\n",
      " 'Enjoy your delicious homemade banana bread!')\n"
     ]
    }
   ],
   "source": [
    "pprint(completion[\"choices\"][0][\"message\"][\"content\"])"
   ]
  },
  {
   "cell_type": "code",
   "execution_count": 4,
   "metadata": {},
   "outputs": [
    {
     "name": "stdout",
     "output_type": "stream",
     "text": [
      "user input was: Hi\n",
      "==================================================\n",
      "('Hello! Is there anything specific you would like to ask or discuss about '\n",
      " 'cooking or cuisine?')\n",
      "\n",
      "\n",
      "user input was: Hello\n",
      "==================================================\n",
      "('Hello! Is there anything you would like to ask or discuss about cooking or '\n",
      " 'cuisine?')\n",
      "\n",
      "\n"
     ]
    }
   ],
   "source": [
    "def chat(user_input: str, message_history=[]):\n",
    "    message_history.append({\"role\": \"system\", \"content\": \"you are a 5 star chef\"})\n",
    "    message_history.append({\"role\": \"user\", \"content\": user_input})\n",
    "\n",
    "    completion = openai.ChatCompletion.create(\n",
    "        model=\"gpt-3.5-turbo\",\n",
    "        messages=message_history,\n",
    "    )\n",
    "\n",
    "    reply_content = completion[\"choices\"][0][\"message\"][\"content\"]\n",
    "\n",
    "    message_history.append({\"role\": \"assistant\", \"content\": reply_content})\n",
    "\n",
    "    return reply_content\n",
    "\n",
    "\n",
    "for _ in range(2):\n",
    "    user_input = input()\n",
    "    print(f\"user input was: {user_input}\")\n",
    "    print(\"==\" * 25)\n",
    "    pprint(chat(user_input))\n",
    "    print(\"\\n\")\n"
   ]
  },
  {
   "cell_type": "code",
   "execution_count": 5,
   "metadata": {},
   "outputs": [
    {
     "data": {
      "text/plain": [
       "'peace war'"
      ]
     },
     "execution_count": 5,
     "metadata": {},
     "output_type": "execute_result"
    }
   ],
   "source": [
    "\"peace\" + \" \" + \"war\""
   ]
  },
  {
   "cell_type": "code",
   "execution_count": 3,
   "metadata": {},
   "outputs": [
    {
     "data": {
      "text/plain": [
       "'Veronica is a Nigerian'"
      ]
     },
     "execution_count": 3,
     "metadata": {},
     "output_type": "execute_result"
    }
   ],
   "source": [
    "test = \"\"\n",
    "for char in \"Veronica is a Nigerian\":\n",
    "    # print(char)\n",
    "    test += char\n",
    "\n",
    "test "
   ]
  }
 ],
 "metadata": {
  "kernelspec": {
   "display_name": "openai",
   "language": "python",
   "name": "python3"
  },
  "language_info": {
   "codemirror_mode": {
    "name": "ipython",
    "version": 3
   },
   "file_extension": ".py",
   "mimetype": "text/x-python",
   "name": "python",
   "nbconvert_exporter": "python",
   "pygments_lexer": "ipython3",
   "version": "3.11.4"
  },
  "orig_nbformat": 4
 },
 "nbformat": 4,
 "nbformat_minor": 2
}
