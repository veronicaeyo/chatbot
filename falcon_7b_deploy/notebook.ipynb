{
 "cells": [
  {
   "cell_type": "code",
   "execution_count": 1,
   "metadata": {},
   "outputs": [
    {
     "name": "stderr",
     "output_type": "stream",
     "text": [
      "Couldn't call 'get_role' to get Role ARN from role name Admin to get Role path.\n"
     ]
    },
    {
     "name": "stdout",
     "output_type": "stream",
     "text": [
      "arn:aws:iam::822248934593:role/service-role/AmazonSageMaker-ExecutionRole-20220224T111993\n"
     ]
    }
   ],
   "source": [
    "import json\n",
    "import sagemaker\n",
    "import boto3\n",
    "from sagemaker.huggingface import HuggingFaceModel, get_huggingface_llm_image_uri\n",
    "\n",
    "session = boto3.Session(profile_name=\"vee\")\n",
    "\n",
    "try:\n",
    "    role = sagemaker.get_execution_role()\n",
    "except ValueError:\n",
    "    iam = session.client(\"iam\")\n",
    "    role = iam.get_role(RoleName=\"AmazonSageMaker-ExecutionRole-20220224T111993\")[\n",
    "        \"Role\"\n",
    "    ][\"Arn\"]\n",
    "    print(role)\n"
   ]
  },
  {
   "cell_type": "code",
   "execution_count": 2,
   "metadata": {},
   "outputs": [
    {
     "name": "stdout",
     "output_type": "stream",
     "text": [
      "Creating hf model...\n",
      "Deploying hf model...\n",
      "---------------![{'generated_text': 'Hey Falcon! Any recommendations for my holidays in Abu Dhabi?\\nAbu Dhabi is a great destination for a holiday! Some recommendations would be to visit the Abu'}]\n"
     ]
    }
   ],
   "source": [
    "# Hub Model configuration. https://huggingface.co/models\n",
    "hub = {\"HF_MODEL_ID\": \"tiiuae/falcon-7b-instruct\", \"SM_NUM_GPUS\": json.dumps(1)}\n",
    "\n",
    "print(\"Creating hf model...\")\n",
    "# create Hugging Face Model Class\n",
    "huggingface_model = HuggingFaceModel(\n",
    "    image_uri=get_huggingface_llm_image_uri(\"huggingface\", version=\"0.9.3\"),\n",
    "    env=hub,\n",
    "    role=role,\n",
    ")\n",
    "\n",
    "print(\"Deploying hf model...\")\n",
    "# deploy model to SageMaker Inference\n",
    "predictor = huggingface_model.deploy(\n",
    "    initial_instance_count=1,\n",
    "    instance_type=\"ml.g5.2xlarge\",\n",
    "    container_startup_health_check_timeout=300,\n",
    "    endpoint_name=\"falcon-7b-instruct\",\n",
    ")\n",
    "\n",
    "\n",
    "# send request\n",
    "sequence = predictor.predict(\n",
    "    {\n",
    "        \"inputs\": \"Hey Falcon! Any recommendations for my holidays in Abu Dhabi?\",\n",
    "    }\n",
    ")\n",
    "\n",
    "print(sequence)"
   ]
  },
  {
   "cell_type": "code",
   "execution_count": 4,
   "metadata": {},
   "outputs": [
    {
     "data": {
      "text/plain": [
       "'Hey Falcon! Any recommendations for my holidays in Abu Dhabi?\\nAbu Dhabi is a great destination for a holiday! Some recommendations would be to visit the Abu'"
      ]
     },
     "execution_count": 4,
     "metadata": {},
     "output_type": "execute_result"
    }
   ],
   "source": [
    "sequence[0]['generated_text']"
   ]
  },
  {
   "cell_type": "code",
   "execution_count": 4,
   "metadata": {},
   "outputs": [
    {
     "data": {
      "text/plain": [
       "'\\nBola Ahmed Tinubu'"
      ]
     },
     "execution_count": 4,
     "metadata": {},
     "output_type": "execute_result"
    }
   ],
   "source": [
    "predictor.predict(\n",
    "    {\n",
    "        \"inputs\": \"Who is Bola Ahmed Tinubu?\",\n",
    "        \"parameters\": {\n",
    "            \"max_new_tokens\": 40,\n",
    "            \"return_full_text\": False,\n",
    "            \"do_sample\": True,\n",
    "            \"top_p\": 0.3,\n",
    "        },\n",
    "    }\n",
    ")[0][\"generated_text\"]"
   ]
  },
  {
   "cell_type": "code",
   "execution_count": 3,
   "metadata": {},
   "outputs": [
    {
     "ename": "ClientError",
     "evalue": "An error occurred (ValidationException) when calling the DescribeEndpointConfig operation: Could not find endpoint configuration \"arn:aws:sagemaker:us-west-2:822248934593:endpoint-config/falcon-7b-instruct\".",
     "output_type": "error",
     "traceback": [
      "\u001b[0;31m---------------------------------------------------------------------------\u001b[0m",
      "\u001b[0;31mClientError\u001b[0m                               Traceback (most recent call last)",
      "\u001b[1;32m/home/alli/Documents/GitHub/chatbot/falcon_7b_deploy/notebook.ipynb Cell 5\u001b[0m line \u001b[0;36m2\n\u001b[1;32m      <a href='vscode-notebook-cell:/home/alli/Documents/GitHub/chatbot/falcon_7b_deploy/notebook.ipynb#W4sZmlsZQ%3D%3D?line=0'>1</a>\u001b[0m predictor\u001b[39m.\u001b[39mdelete_endpoint()\n\u001b[0;32m----> <a href='vscode-notebook-cell:/home/alli/Documents/GitHub/chatbot/falcon_7b_deploy/notebook.ipynb#W4sZmlsZQ%3D%3D?line=1'>2</a>\u001b[0m predictor\u001b[39m.\u001b[39;49mdelete_model()\n",
      "File \u001b[0;32m~/miniconda3/envs/openai/lib/python3.11/site-packages/sagemaker/base_predictor.py:371\u001b[0m, in \u001b[0;36mPredictor.delete_model\u001b[0;34m(self)\u001b[0m\n\u001b[1;32m    369\u001b[0m request_failed \u001b[39m=\u001b[39m \u001b[39mFalse\u001b[39;00m\n\u001b[1;32m    370\u001b[0m failed_models \u001b[39m=\u001b[39m []\n\u001b[0;32m--> 371\u001b[0m current_model_names \u001b[39m=\u001b[39m \u001b[39mself\u001b[39;49m\u001b[39m.\u001b[39;49m_get_model_names()\n\u001b[1;32m    372\u001b[0m \u001b[39mfor\u001b[39;00m model_name \u001b[39min\u001b[39;00m current_model_names:\n\u001b[1;32m    373\u001b[0m     \u001b[39mtry\u001b[39;00m:\n",
      "File \u001b[0;32m~/miniconda3/envs/openai/lib/python3.11/site-packages/sagemaker/base_predictor.py:562\u001b[0m, in \u001b[0;36mPredictor._get_model_names\u001b[0;34m(self)\u001b[0m\n\u001b[1;32m    560\u001b[0m     \u001b[39mreturn\u001b[39;00m \u001b[39mself\u001b[39m\u001b[39m.\u001b[39m_model_names\n\u001b[1;32m    561\u001b[0m current_endpoint_config_name \u001b[39m=\u001b[39m \u001b[39mself\u001b[39m\u001b[39m.\u001b[39m_get_endpoint_config_name()\n\u001b[0;32m--> 562\u001b[0m endpoint_config \u001b[39m=\u001b[39m \u001b[39mself\u001b[39;49m\u001b[39m.\u001b[39;49msagemaker_session\u001b[39m.\u001b[39;49msagemaker_client\u001b[39m.\u001b[39;49mdescribe_endpoint_config(\n\u001b[1;32m    563\u001b[0m     EndpointConfigName\u001b[39m=\u001b[39;49mcurrent_endpoint_config_name\n\u001b[1;32m    564\u001b[0m )\n\u001b[1;32m    565\u001b[0m production_variants \u001b[39m=\u001b[39m endpoint_config[\u001b[39m\"\u001b[39m\u001b[39mProductionVariants\u001b[39m\u001b[39m\"\u001b[39m]\n\u001b[1;32m    566\u001b[0m \u001b[39mself\u001b[39m\u001b[39m.\u001b[39m_model_names \u001b[39m=\u001b[39m [d[\u001b[39m\"\u001b[39m\u001b[39mModelName\u001b[39m\u001b[39m\"\u001b[39m] \u001b[39mfor\u001b[39;00m d \u001b[39min\u001b[39;00m production_variants]\n",
      "File \u001b[0;32m~/miniconda3/envs/openai/lib/python3.11/site-packages/botocore/client.py:535\u001b[0m, in \u001b[0;36mClientCreator._create_api_method.<locals>._api_call\u001b[0;34m(self, *args, **kwargs)\u001b[0m\n\u001b[1;32m    531\u001b[0m     \u001b[39mraise\u001b[39;00m \u001b[39mTypeError\u001b[39;00m(\n\u001b[1;32m    532\u001b[0m         \u001b[39mf\u001b[39m\u001b[39m\"\u001b[39m\u001b[39m{\u001b[39;00mpy_operation_name\u001b[39m}\u001b[39;00m\u001b[39m() only accepts keyword arguments.\u001b[39m\u001b[39m\"\u001b[39m\n\u001b[1;32m    533\u001b[0m     )\n\u001b[1;32m    534\u001b[0m \u001b[39m# The \"self\" in this scope is referring to the BaseClient.\u001b[39;00m\n\u001b[0;32m--> 535\u001b[0m \u001b[39mreturn\u001b[39;00m \u001b[39mself\u001b[39;49m\u001b[39m.\u001b[39;49m_make_api_call(operation_name, kwargs)\n",
      "File \u001b[0;32m~/miniconda3/envs/openai/lib/python3.11/site-packages/botocore/client.py:980\u001b[0m, in \u001b[0;36mBaseClient._make_api_call\u001b[0;34m(self, operation_name, api_params)\u001b[0m\n\u001b[1;32m    978\u001b[0m     error_code \u001b[39m=\u001b[39m parsed_response\u001b[39m.\u001b[39mget(\u001b[39m\"\u001b[39m\u001b[39mError\u001b[39m\u001b[39m\"\u001b[39m, {})\u001b[39m.\u001b[39mget(\u001b[39m\"\u001b[39m\u001b[39mCode\u001b[39m\u001b[39m\"\u001b[39m)\n\u001b[1;32m    979\u001b[0m     error_class \u001b[39m=\u001b[39m \u001b[39mself\u001b[39m\u001b[39m.\u001b[39mexceptions\u001b[39m.\u001b[39mfrom_code(error_code)\n\u001b[0;32m--> 980\u001b[0m     \u001b[39mraise\u001b[39;00m error_class(parsed_response, operation_name)\n\u001b[1;32m    981\u001b[0m \u001b[39melse\u001b[39;00m:\n\u001b[1;32m    982\u001b[0m     \u001b[39mreturn\u001b[39;00m parsed_response\n",
      "\u001b[0;31mClientError\u001b[0m: An error occurred (ValidationException) when calling the DescribeEndpointConfig operation: Could not find endpoint configuration \"arn:aws:sagemaker:us-west-2:822248934593:endpoint-config/falcon-7b-instruct\"."
     ]
    }
   ],
   "source": [
    "predictor.delete_endpoint()\n",
    "predictor.delete_model()\n"
   ]
  }
 ],
 "metadata": {
  "kernelspec": {
   "display_name": "openai",
   "language": "python",
   "name": "python3"
  },
  "language_info": {
   "codemirror_mode": {
    "name": "ipython",
    "version": 3
   },
   "file_extension": ".py",
   "mimetype": "text/x-python",
   "name": "python",
   "nbconvert_exporter": "python",
   "pygments_lexer": "ipython3",
   "version": "3.11.4"
  },
  "orig_nbformat": 4
 },
 "nbformat": 4,
 "nbformat_minor": 2
}
