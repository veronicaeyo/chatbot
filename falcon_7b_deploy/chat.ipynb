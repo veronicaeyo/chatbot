{
 "cells": [
  {
   "cell_type": "code",
   "execution_count": 1,
   "metadata": {},
   "outputs": [
    {
     "data": {
      "text/plain": [
       "'\\nBola Ahmed Tinubu is a Nigerian politician and former governor of Lagos State. He is a member of the All Progressives Congress (APC) and has been a prominent figure in Nigerian'"
      ]
     },
     "execution_count": 1,
     "metadata": {},
     "output_type": "execute_result"
    }
   ],
   "source": [
    "import boto3\n",
    "import json\n",
    "\n",
    "sagemaker_client = boto3.client(\"sagemaker-runtime\")\n",
    "\n",
    "# Define the endpoint name and payload\n",
    "endpoint_name = \"falcon-7b-instruct\"\n",
    "\n",
    "payload = {\n",
    "    \"inputs\": \"Who is Bola Ahmed Tinubu?\",\n",
    "    \"parameters\": {\n",
    "        \"max_new_tokens\": 40,\n",
    "        \"return_full_text\": False,\n",
    "        \"do_sample\": True,\n",
    "        \"top_p\": 0.3,\n",
    "    },\n",
    "}\n",
    "\n",
    "# Send the request to the SageMaker endpoint\n",
    "response = sagemaker_client.invoke_endpoint(\n",
    "    EndpointName=endpoint_name,\n",
    "    ContentType=\"application/json\",\n",
    "    Body=json.dumps(payload),\n",
    ")\n",
    "\n",
    "response_body = response[\"Body\"].read().decode(\"utf-8\")\n",
    "response_json = json.loads(response_body)\n",
    "response_json[0]['generated_text']     "
   ]
  },
  {
   "cell_type": "code",
   "execution_count": 34,
   "metadata": {},
   "outputs": [
    {
     "data": {
      "text/plain": [
       "'\\nBola Ahmed Tinubu is a Nigerian politician and former Governor of Lagos State. He is a member of the All Progressives Congress (APC) and was the first female governor of Lagos'"
      ]
     },
     "execution_count": 34,
     "metadata": {},
     "output_type": "execute_result"
    }
   ],
   "source": [
    "response_json[0]['generated_text']"
   ]
  },
  {
   "cell_type": "code",
   "execution_count": 36,
   "metadata": {},
   "outputs": [
    {
     "data": {
      "text/plain": [
       "'\\n'"
      ]
     },
     "execution_count": 36,
     "metadata": {},
     "output_type": "execute_result"
    }
   ],
   "source": [
    "def fn():\n",
    "    test = \"\"\n",
    "    for word in response_json[0]['generated_text']:\n",
    "        test += word\n",
    "        \n",
    "        yield test\n",
    "        \n",
    "next(fn())\n",
    "\n"
   ]
  },
  {
   "cell_type": "code",
   "execution_count": 37,
   "metadata": {},
   "outputs": [
    {
     "data": {
      "text/plain": [
       "'\\n'"
      ]
     },
     "execution_count": 37,
     "metadata": {},
     "output_type": "execute_result"
    }
   ],
   "source": [
    "next(fn())\n"
   ]
  },
  {
   "cell_type": "code",
   "execution_count": 20,
   "metadata": {},
   "outputs": [
    {
     "name": "stdout",
     "output_type": "stream",
     "text": [
      "\n"
     ]
    }
   ],
   "source": [
    "test = \"\"\n",
    "\n",
    "for res in response[\"Body\"].read().decode(\"utf-8\"):\n",
    "    test += res\n",
    "    \n",
    "print(test)"
   ]
  },
  {
   "cell_type": "code",
   "execution_count": 19,
   "metadata": {},
   "outputs": [
    {
     "data": {
      "text/plain": [
       "''"
      ]
     },
     "execution_count": 19,
     "metadata": {},
     "output_type": "execute_result"
    }
   ],
   "source": [
    "response[\"Body\"].read().decode(\"utf-8\")"
   ]
  },
  {
   "cell_type": "code",
   "execution_count": null,
   "metadata": {},
   "outputs": [],
   "source": []
  },
  {
   "cell_type": "code",
   "execution_count": null,
   "metadata": {},
   "outputs": [],
   "source": []
  },
  {
   "cell_type": "code",
   "execution_count": 8,
   "metadata": {},
   "outputs": [],
   "source": [
    "import boto3\n",
    "import json\n",
    "\n",
    "sagemaker_client = boto3.client(\"sagemaker-runtime\")\n",
    "\n",
    "# Define the endpoint name and payload\n",
    "endpoint_name = \"falcon-7b-instruct\"\n",
    "\n",
    "def generate(message, history):\n",
    "    payload = {\n",
    "        \"inputs\": message,\n",
    "        \"parameters\": {\n",
    "            \"max_new_tokens\": 40,\n",
    "            \"return_full_text\": False,\n",
    "            \"do_sample\": True,\n",
    "            \"top_p\": 0.3,\n",
    "            \"stop\": [\"politician\", \"Nigeria\", \"is\"]\n",
    "        },\n",
    "    }\n",
    "\n",
    "    # Send the request to the SageMaker endpoint\n",
    "    response = sagemaker_client.invoke_endpoint(\n",
    "        EndpointName=endpoint_name,\n",
    "        ContentType=\"application/json\",\n",
    "        Body=json.dumps(payload),\n",
    "    )\n",
    "\n",
    "    # Parse the response and extract the embeddings vector\n",
    "    response_body = response[\"Body\"].read().decode(\"utf-8\")\n",
    "    response_json = json.loads(response_body)\n",
    "\n",
    "    output = response_json[0][\"generated_text\"]\n",
    "    \n",
    "    # output = output.replace('\\n', '').strip('?')\n",
    "    \n",
    "    return output"
   ]
  },
  {
   "cell_type": "code",
   "execution_count": 9,
   "metadata": {},
   "outputs": [
    {
     "data": {
      "text/plain": [
       "'?\\nMini Bola Ahmed Tinubu is'"
      ]
     },
     "execution_count": 9,
     "metadata": {},
     "output_type": "execute_result"
    }
   ],
   "source": [
    "generate(\"User: Who is Bola Ahmed Tinubu\", None)"
   ]
  }
 ],
 "metadata": {
  "kernelspec": {
   "display_name": "openai",
   "language": "python",
   "name": "python3"
  },
  "language_info": {
   "codemirror_mode": {
    "name": "ipython",
    "version": 3
   },
   "file_extension": ".py",
   "mimetype": "text/x-python",
   "name": "python",
   "nbconvert_exporter": "python",
   "pygments_lexer": "ipython3",
   "version": "3.11.4"
  },
  "orig_nbformat": 4
 },
 "nbformat": 4,
 "nbformat_minor": 2
}
