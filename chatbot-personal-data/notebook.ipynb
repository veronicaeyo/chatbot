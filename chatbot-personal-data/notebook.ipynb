{
 "cells": [
  {
   "cell_type": "markdown",
   "metadata": {},
   "source": [
    "## Load Document $\\rightarrow$ Split Document $\\rightarrow$ Storage "
   ]
  },
  {
   "cell_type": "markdown",
   "metadata": {},
   "source": [
    "### Load Document "
   ]
  },
  {
   "cell_type": "markdown",
   "metadata": {},
   "source": [
    "#### From PDF File"
   ]
  },
  {
   "cell_type": "code",
   "execution_count": 16,
   "metadata": {},
   "outputs": [],
   "source": [
    "from pprint import pprint\n",
    "from dotenv import load_dotenv\n",
    "import os\n",
    "\n",
    "from langchain.document_loaders import PyPDFLoader"
   ]
  },
  {
   "cell_type": "code",
   "execution_count": 17,
   "metadata": {},
   "outputs": [
    {
     "data": {
      "text/plain": [
       "True"
      ]
     },
     "execution_count": 17,
     "metadata": {},
     "output_type": "execute_result"
    }
   ],
   "source": [
    "load_dotenv()"
   ]
  },
  {
   "cell_type": "code",
   "execution_count": 1,
   "metadata": {},
   "outputs": [],
   "source": [
    "loader = PyPDFLoader(\"test.pdf\")\n",
    "pages = loader.load()"
   ]
  },
  {
   "cell_type": "code",
   "execution_count": 2,
   "metadata": {},
   "outputs": [
    {
     "data": {
      "text/plain": [
       "86"
      ]
     },
     "execution_count": 2,
     "metadata": {},
     "output_type": "execute_result"
    }
   ],
   "source": [
    "len(pages)"
   ]
  },
  {
   "cell_type": "code",
   "execution_count": 3,
   "metadata": {},
   "outputs": [
    {
     "data": {
      "text/plain": [
       "{'source': 'test.pdf', 'page': 0}"
      ]
     },
     "execution_count": 3,
     "metadata": {},
     "output_type": "execute_result"
    }
   ],
   "source": [
    "page = pages[0]\n",
    "page.metadata"
   ]
  },
  {
   "cell_type": "code",
   "execution_count": 10,
   "metadata": {},
   "outputs": [
    {
     "name": "stdout",
     "output_type": "stream",
     "text": [
      "The Rise and Potential of Large Language Model\n",
      "Based Agents: A Survey\n",
      "Zhiheng Xi∗†, Wenxiang Chen∗, Xin Guo∗, Wei He∗, Yiwen Ding∗, Boyang Hong∗,\n",
      "Ming Zhang∗, Junzhe Wang∗, Senjie Jin∗, Enyu Zhou∗,\n",
      "Ru\n"
     ]
    }
   ],
   "source": [
    "print(page.page_content[0:200])"
   ]
  },
  {
   "cell_type": "code",
   "execution_count": null,
   "metadata": {},
   "outputs": [],
   "source": []
  },
  {
   "cell_type": "markdown",
   "metadata": {},
   "source": [
    "#### From YT link"
   ]
  },
  {
   "cell_type": "code",
   "execution_count": 13,
   "metadata": {},
   "outputs": [],
   "source": [
    "import openai\n",
    "\n",
    "from langchain.document_loaders.generic import GenericLoader\n",
    "from langchain.document_loaders.parsers import OpenAIWhisperParser\n",
    "from langchain.document_loaders.blob_loaders.youtube_audio import YoutubeAudioLoader"
   ]
  },
  {
   "cell_type": "code",
   "execution_count": 18,
   "metadata": {},
   "outputs": [],
   "source": [
    "API_KEY: str = os.getenv('OPENAI_API_KEY')\n",
    "openai.api_key = API_KEY"
   ]
  },
  {
   "cell_type": "code",
   "execution_count": 21,
   "metadata": {},
   "outputs": [
    {
     "name": "stdout",
     "output_type": "stream",
     "text": [
      "[youtube] Extracting URL: https://www.youtube.com/watch?v=DM5tT63Hs5I\n",
      "[youtube] DM5tT63Hs5I: Downloading webpage\n",
      "[youtube] DM5tT63Hs5I: Downloading ios player API JSON\n",
      "[youtube] DM5tT63Hs5I: Downloading android player API JSON\n",
      "[youtube] DM5tT63Hs5I: Downloading m3u8 information\n",
      "[info] DM5tT63Hs5I: Downloading 1 format(s): 140\n",
      "[download] youtube//I Go Die For Nyash 😆😂.m4a has already been downloaded\n",
      "[download] 100% of    1.28MiB\n",
      "[ExtractAudio] Not converting audio youtube//I Go Die For Nyash 😆😂.m4a; file is already in target format m4a\n",
      "Transcribing part 1!\n"
     ]
    }
   ],
   "source": [
    "url = \"https://www.youtube.com/watch?v=DM5tT63Hs5I\"\n",
    "save_dir = \"youtube/\"\n",
    "\n",
    "loader = GenericLoader(YoutubeAudioLoader([url], save_dir), OpenAIWhisperParser())\n",
    "docs = loader.load()"
   ]
  },
  {
   "cell_type": "code",
   "execution_count": 26,
   "metadata": {},
   "outputs": [
    {
     "name": "stdout",
     "output_type": "stream",
     "text": [
      "(\"******* ******* Madam, please, good evening. I'm going to U.S. Janssen. \"\n",
      " \"What's your address? Hello. U.S. Janssen. Please take your left. Left. The \"\n",
      " \"speed Janssen. Your right. There's a sign board there. Just take the speed \"\n",
      " 'Janssen. Okay. Get there. Thank you. Okay. ******* ******* ******* ******* '\n",
      " \"******* ******* ******* Hello. Just pass straight. Please, I've missed the \"\n",
      " \"room. Hello. Yes. ******* Just take the left direction. Okay. There's a T \"\n",
      " 'Janssen there. Okay. Can you go back a little? ******* ******* Excuse me. '\n",
      " \"Okay. Just take the right direction. Okay. Just go down, there's a ******* \"\n",
      " '******* Raise your hand. ******* ***** ***** ******* ******* ******* Show me '\n",
      " 'the value of that어도 ******* ******* Show me the value of thatarthy. ******* '\n",
      " '******* ******* Okay, this is good. ******* ******* ******* ******* ******* '\n",
      " '******* ******* ****** ****** *******')\n"
     ]
    }
   ],
   "source": [
    "pprint(docs[0].page_content)"
   ]
  },
  {
   "cell_type": "code",
   "execution_count": null,
   "metadata": {},
   "outputs": [],
   "source": []
  },
  {
   "cell_type": "code",
   "execution_count": null,
   "metadata": {},
   "outputs": [],
   "source": []
  },
  {
   "cell_type": "code",
   "execution_count": 11,
   "metadata": {},
   "outputs": [],
   "source": []
  },
  {
   "cell_type": "code",
   "execution_count": 9,
   "metadata": {},
   "outputs": [],
   "source": []
  },
  {
   "cell_type": "code",
   "execution_count": 23,
   "metadata": {},
   "outputs": [],
   "source": []
  }
 ],
 "metadata": {
  "kernelspec": {
   "display_name": "openai",
   "language": "python",
   "name": "python3"
  },
  "language_info": {
   "codemirror_mode": {
    "name": "ipython",
    "version": 3
   },
   "file_extension": ".py",
   "mimetype": "text/x-python",
   "name": "python",
   "nbconvert_exporter": "python",
   "pygments_lexer": "ipython3",
   "version": "3.11.4"
  },
  "orig_nbformat": 4
 },
 "nbformat": 4,
 "nbformat_minor": 2
}
