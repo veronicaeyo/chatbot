{
 "cells": [
  {
   "cell_type": "markdown",
   "metadata": {},
   "source": [
    "## Load Document $\\rightarrow$ Split Document $\\rightarrow$ Storage "
   ]
  },
  {
   "cell_type": "markdown",
   "metadata": {},
   "source": [
    "![steps](image.png)"
   ]
  },
  {
   "cell_type": "markdown",
   "metadata": {},
   "source": [
    "### Load Document "
   ]
  },
  {
   "cell_type": "markdown",
   "metadata": {},
   "source": [
    "#### From PDF File"
   ]
  },
  {
   "cell_type": "code",
   "execution_count": 23,
   "metadata": {},
   "outputs": [],
   "source": [
    "from pprint import pprint\n",
    "from dotenv import load_dotenv\n",
    "import os\n",
    "\n",
    "from langchain.document_loaders import PyPDFLoader"
   ]
  },
  {
   "cell_type": "code",
   "execution_count": 17,
   "metadata": {},
   "outputs": [
    {
     "data": {
      "text/plain": [
       "True"
      ]
     },
     "execution_count": 17,
     "metadata": {},
     "output_type": "execute_result"
    }
   ],
   "source": [
    "load_dotenv()"
   ]
  },
  {
   "cell_type": "code",
   "execution_count": 25,
   "metadata": {},
   "outputs": [],
   "source": [
    "loader = PyPDFLoader(\"docs/test.pdf\")\n",
    "pages = loader.load()"
   ]
  },
  {
   "cell_type": "code",
   "execution_count": 2,
   "metadata": {},
   "outputs": [
    {
     "data": {
      "text/plain": [
       "86"
      ]
     },
     "execution_count": 2,
     "metadata": {},
     "output_type": "execute_result"
    }
   ],
   "source": [
    "len(pages)"
   ]
  },
  {
   "cell_type": "code",
   "execution_count": 3,
   "metadata": {},
   "outputs": [
    {
     "data": {
      "text/plain": [
       "{'source': 'test.pdf', 'page': 0}"
      ]
     },
     "execution_count": 3,
     "metadata": {},
     "output_type": "execute_result"
    }
   ],
   "source": [
    "page = pages[0]\n",
    "page.metadata"
   ]
  },
  {
   "cell_type": "code",
   "execution_count": 10,
   "metadata": {},
   "outputs": [
    {
     "name": "stdout",
     "output_type": "stream",
     "text": [
      "The Rise and Potential of Large Language Model\n",
      "Based Agents: A Survey\n",
      "Zhiheng Xi∗†, Wenxiang Chen∗, Xin Guo∗, Wei He∗, Yiwen Ding∗, Boyang Hong∗,\n",
      "Ming Zhang∗, Junzhe Wang∗, Senjie Jin∗, Enyu Zhou∗,\n",
      "Ru\n"
     ]
    }
   ],
   "source": [
    "print(page.page_content[0:200]) "
   ]
  },
  {
   "cell_type": "code",
   "execution_count": null,
   "metadata": {},
   "outputs": [],
   "source": []
  },
  {
   "cell_type": "markdown",
   "metadata": {},
   "source": [
    "#### From YT link"
   ]
  },
  {
   "cell_type": "code",
   "execution_count": 13,
   "metadata": {},
   "outputs": [],
   "source": [
    "import openai\n",
    "\n",
    "from langchain.document_loaders.generic import GenericLoader\n",
    "from langchain.document_loaders.parsers import OpenAIWhisperParser\n",
    "from langchain.document_loaders.blob_loaders.youtube_audio import YoutubeAudioLoader"
   ]
  },
  {
   "cell_type": "code",
   "execution_count": 18,
   "metadata": {},
   "outputs": [],
   "source": [
    "API_KEY: str = os.getenv(\"OPENAI_API_KEY\")\n",
    "openai.api_key = API_KEY"
   ]
  },
  {
   "cell_type": "code",
   "execution_count": 21,
   "metadata": {},
   "outputs": [
    {
     "name": "stdout",
     "output_type": "stream",
     "text": [
      "[youtube] Extracting URL: https://www.youtube.com/watch?v=DM5tT63Hs5I\n",
      "[youtube] DM5tT63Hs5I: Downloading webpage\n",
      "[youtube] DM5tT63Hs5I: Downloading ios player API JSON\n",
      "[youtube] DM5tT63Hs5I: Downloading android player API JSON\n",
      "[youtube] DM5tT63Hs5I: Downloading m3u8 information\n",
      "[info] DM5tT63Hs5I: Downloading 1 format(s): 140\n",
      "[download] youtube//I Go Die For Nyash 😆😂.m4a has already been downloaded\n",
      "[download] 100% of    1.28MiB\n",
      "[ExtractAudio] Not converting audio youtube//I Go Die For Nyash 😆😂.m4a; file is already in target format m4a\n",
      "Transcribing part 1!\n"
     ]
    }
   ],
   "source": [
    "url = \"https://www.youtube.com/watch?v=DM5tT63Hs5I\"\n",
    "save_dir = \"youtube/\"\n",
    "\n",
    "loader = GenericLoader(YoutubeAudioLoader([url], save_dir), OpenAIWhisperParser())\n",
    "docs = loader.load() "
   ]
  },
  {
   "cell_type": "code",
   "execution_count": 26,
   "metadata": {},
   "outputs": [
    {
     "name": "stdout",
     "output_type": "stream",
     "text": [
      "(\"******* ******* Madam, please, good evening. I'm going to U.S. Janssen. \"\n",
      " \"What's your address? Hello. U.S. Janssen. Please take your left. Left. The \"\n",
      " \"speed Janssen. Your right. There's a sign board there. Just take the speed \"\n",
      " 'Janssen. Okay. Get there. Thank you. Okay. ******* ******* ******* ******* '\n",
      " \"******* ******* ******* Hello. Just pass straight. Please, I've missed the \"\n",
      " \"room. Hello. Yes. ******* Just take the left direction. Okay. There's a T \"\n",
      " 'Janssen there. Okay. Can you go back a little? ******* ******* Excuse me. '\n",
      " \"Okay. Just take the right direction. Okay. Just go down, there's a ******* \"\n",
      " '******* Raise your hand. ******* ***** ***** ******* ******* ******* Show me '\n",
      " 'the value of that어도 ******* ******* Show me the value of thatarthy. ******* '\n",
      " '******* ******* Okay, this is good. ******* ******* ******* ******* ******* '\n",
      " '******* ******* ****** ****** *******')\n"
     ]
    }
   ],
   "source": [
    "pprint(docs[0].page_content) "
   ]
  },
  {
   "cell_type": "code",
   "execution_count": null,
   "metadata": {},
   "outputs": [],
   "source": []
  },
  {
   "cell_type": "markdown",
   "metadata": {},
   "source": [
    "#### From Webpage"
   ]
  },
  {
   "cell_type": "code",
   "execution_count": 20,
   "metadata": {},
   "outputs": [],
   "source": [
    "from langchain.document_loaders import WebBaseLoader\n",
    "\n",
    "loader = WebBaseLoader(\"https://www.promptingguide.ai/introduction/settings\")"
   ]
  },
  {
   "cell_type": "code",
   "execution_count": 21,
   "metadata": {},
   "outputs": [],
   "source": [
    "pages = loader.load() "
   ]
  },
  {
   "cell_type": "code",
   "execution_count": 22,
   "metadata": {},
   "outputs": [
    {
     "name": "stdout",
     "output_type": "stream",
     "text": [
      "LLM Settings | Prompt Engineering Guide Prompt Engineering GuidePrompt Engineering CoursePrompt Engineering CourseServicesServicesAboutAboutGitHubGitHub (opens in a new tab)DiscordDiscord (opens in a new tab)Prompt EngineeringIntroductionLLM SettingsBasics of PromptingPrompt ElementsGeneral Tips for Designing PromptsExamples of PromptsTechniquesZero-shot PromptingFew-shot PromptingChain-of-Thought PromptingSelf-ConsistencyGenerate Knowledge PromptingTree of ThoughtsRetrieval Augmented GenerationAutomatic Reasoning and Tool-useAutomatic Prompt EngineerActive-PromptDirectional Stimulus PromptingReActMultimodal CoTGraph PromptingApplicationsProgram-Aided Language ModelsGenerating DataGenerating CodeGraduate Job Classification Case StudyPrompt FunctionModelsFlanChatGPTLLaMAGPT-4LLM CollectionRisks & MisusesAdversarial PromptingFactualityBiasesPapersToolsNotebooksDatasetsAdditional ReadingsPrompt EngineeringIntroductionLLM SettingsBasics of PromptingPrompt ElementsGeneral Tips for Designing PromptsExamples of PromptsTechniquesZero-shot PromptingFew-shot PromptingChain-of-Thought PromptingSelf-ConsistencyGenerate Knowledge PromptingTree of ThoughtsRetrieval Augmented GenerationAutomatic Reasoning and Tool-useAutomatic Prompt EngineerActive-PromptDirectional Stimulus PromptingReActMultimodal CoTGraph PromptingApplicationsProgram-Aided Language ModelsGenerating DataGenerating CodeGraduate Job Classification Case StudyPrompt FunctionModelsFlanChatGPTLLaMAGPT-4LLM CollectionRisks & MisusesAdversarial PromptingFactualityBiasesPapersToolsNotebooksDatasetsAdditional ReadingsPrompt Engineering CourseServicesAboutEnglishlightQuestion? Give us feedback → (opens in a new tab)Edit this pageIntroductionLLM SettingsLLM Settings\n",
      "When working with prompts, you interact with the LLM via an API or directly. You can configure a few parameters to get different results for your prompts.\n",
      "Temperature - In short, the lower the temperature, the more deterministic the results in the sense that the highest probable next token is always picked. Increasing temperature could lead to more randomness, which encourages more diverse or creative outputs. You are essentially increasing the weights of the other possible tokens. In terms of application, you might want to use a lower temperature value for tasks like fact-based QA to encourage more factual and concise responses. For poem generation or other creative tasks, it might be beneficial to increase the temperature value.\n",
      "Top_p - Similarly, with top_p, a sampling technique with temperature called nucleus sampling, you can control how deterministic the model is at generating a response. If you are looking for exact and factual answers keep this low. If you are looking for more diverse responses, increase to a higher value.\n",
      "The general recommendation is to alter one, not both.\n",
      "Before starting with some basic examples, keep in mind that your results may vary depending on the version of LLM you use.IntroductionBasics of PromptingEnglishlightCopyright © 2023 DAIR.AI\n"
     ]
    }
   ],
   "source": [
    "print(pages[0].page_content) "
   ]
  },
  {
   "cell_type": "code",
   "execution_count": null,
   "metadata": {},
   "outputs": [],
   "source": []
  },
  {
   "cell_type": "markdown",
   "metadata": {},
   "source": [
    "#### From Notion"
   ]
  },
  {
   "cell_type": "code",
   "execution_count": 26,
   "metadata": {},
   "outputs": [],
   "source": [
    "from langchain.document_loaders import NotionDirectoryLoader\n",
    "loader = NotionDirectoryLoader(\"docs/Notion_DB\")\n",
    "docs = loader.load()"
   ]
  },
  {
   "cell_type": "code",
   "execution_count": 28,
   "metadata": {},
   "outputs": [
    {
     "data": {
      "text/plain": [
       "1"
      ]
     },
     "execution_count": 28,
     "metadata": {},
     "output_type": "execute_result"
    }
   ],
   "source": [
    "len(docs)"
   ]
  },
  {
   "cell_type": "code",
   "execution_count": 29,
   "metadata": {},
   "outputs": [
    {
     "data": {
      "text/plain": [
       "{'source': \"docs/Notion_DB/Blendle's Employee Handbook 8a6917052a0742e68d842b89a76f28b5.md\"}"
      ]
     },
     "execution_count": 29,
     "metadata": {},
     "output_type": "execute_result"
    }
   ],
   "source": [
    "docs[0].metadata"
   ]
  },
  {
   "cell_type": "code",
   "execution_count": 27,
   "metadata": {},
   "outputs": [
    {
     "name": "stdout",
     "output_type": "stream",
     "text": [
      "# Blendle's Employee Handbook\n",
      "\n",
      "This is a living document with everything we've learned working with people while running a startup. And, of course, we continue to learn. Therefore it's a document that will continue to change. \n",
      "\n",
      "**Everything related to working at Blendle and the people of Blendle, made public.**\n",
      "\n",
      "These are the lessons from three years of working with the people of Blendle. It contains everything from [how our leaders lead](https://www.notion.so/ecfb7e647136468a9a0a32f1771a8f52?pvs=21) to [how we increase salaries](https://www.notion.so/Salary-Review-e11b6161c6d34f5c9568bb3e83ed96b6?pvs=21), from [how we hire](https://www.notion.so/Hiring-451bbcfe8d9b49438c0633326bb7af0a?pvs=21) and [fire](https://www.notion.so/Firing-5567687a2000496b8412e53cd58eed9d?pvs=21) to [how we think people should give each other feedback](https://www.notion.so/Our-Feedback-Process-eb64f1de796b4350aeab3bc068e3801f?pvs=21) — and much more.\n",
      "\n",
      "We've made this document public because we want to learn from you. We're very much interested in your feedback (including weeding out typo's and Dunglish ;)). Email us at hr@blendle.com. If you're starting your own company or if you're curious as to how we do things at Blendle, we hope that our employee handbook inspires you.\n",
      "\n",
      "If you want to work at Blendle you can check our [job ads here](https://blendle.homerun.co/). If you want to be kept in the loop about Blendle, you can sign up for [our behind the scenes newsletter](https://blendle.homerun.co/yes-keep-me-posted/tr/apply?token=8092d4128c306003d97dd3821bad06f2).\n",
      "\n",
      "## Blendle general\n",
      "\n",
      "*Information gap closing in 3... 2... 1...*\n",
      "\n",
      "---\n",
      "\n",
      "[To Do/Read in your first week](https://www.notion.so/To-Do-Read-in-your-first-week-f0279ca808514905bcce4514a4905d90?pvs=21)\n",
      "\n",
      "[History](https://www.notion.so/History-1bdf308cf4f84b9484af3ece21930110?pvs=21)\n",
      "\n",
      "[DNA & culture](https://www.notion.so/DNA-culture-2e6d462451ee4100a0854fe4307b99aa?pvs=21)\n",
      "\n",
      "[General & practical ](https://www.notion.so/General-practical-3325144f20664d3abe9d4833e4945912?pvs=21)\n",
      "\n",
      "## People operations\n",
      "\n",
      "*You can tell a company's DNA by looking at how they deal with the practical stuff.*  \n",
      "\n",
      "---\n",
      "\n",
      "[Office](https://www.notion.so/Office-0b5b64a03c364593a882d13da1dfabd4?pvs=21)\n",
      "\n",
      "[Time off: holidays and national holidays](https://www.notion.so/Time-off-holidays-and-national-holidays-c1f431c5c2ed480ab0033af305fdd8d3?pvs=21)\n",
      "\n",
      "[Calling in sick/better](https://www.notion.so/Calling-in-sick-better-c6b70d9d8e06471ba47956207695c87a?pvs=21)\n",
      "\n",
      "[Perks and benefits](https://www.notion.so/Perks-and-benefits-3fb6161582664c16a0158987df22193e?pvs=21)\n",
      "\n",
      "[Travel costs and reimbursements](https://www.notion.so/Travel-costs-and-reimbursements-bfc7ca27d17e40098ce3c9e0dd5b9bfd?pvs=21)\n",
      "\n",
      "[Parenthood](https://www.notion.so/Parenthood-56be2079cf8847e8a8c3f99f1f3fc4b9?pvs=21)\n",
      "\n",
      "## People topics\n",
      "\n",
      "*Themes we care about.*\n",
      "\n",
      "---\n",
      "\n",
      "[Blendle Social Code](https://www.notion.so/Blendle-Social-Code-e538c73c60e7411dbea97a2a270df966?pvs=21)\n",
      "\n",
      "[Diversity and inclusion](https://www.notion.so/Diversity-and-inclusion-d2d10e83dcb3488d9215f4a916f11e56?pvs=21)\n",
      "\n",
      "[#letstalkaboutstress](https://www.notion.so/letstalkaboutstress-7dbe4c2848034138a664973e2d8e174f?pvs=21)\n",
      "\n",
      "## Feedback and development\n",
      "\n",
      "*The number 1 reason for people to work at Blendle is growth and learning from smart people.*\n",
      "\n",
      "---\n",
      "\n",
      "[Your 1st month ](https://www.notion.so/Your-1st-month-518a12cbb08448629e4153708a77f470?pvs=21)\n",
      "\n",
      "[Goals](https://www.notion.so/Goals-23fc8c02b39647cc95b4400c9caae4cc?pvs=21)\n",
      "\n",
      "[Feedback cycle](https://www.notion.so/Feedback-cycle-9fb44c57c6cd4dd7befc1e0f93e36193?pvs=21)\n",
      "\n",
      "[The Matrix™ (job profiles)](https://www.notion.so/The-Matrix-job-profiles-caa2ffbcb7bd4e30907ebd981f992d3d?pvs=21)\n",
      "\n",
      "[Blendle library](https://www.notion.so/Blendle-library-4b3f5b985aac4783b14d3af8d745e771?pvs=21)\n",
      "\n",
      "## **Hiring**\n",
      "\n",
      "*The coolest and most impactful thing when done right.*\n",
      "\n",
      "---\n",
      "\n",
      "[Rating systems](https://www.notion.so/Rating-systems-e91632fa767940cd9771d1d0400e693a?pvs=21)\n",
      "\n",
      "[Getting people in (branding&sourcing)](https://www.notion.so/Getting-people-in-branding-sourcing-17bb0c4acb0c44de8a01ee1c9c93ef1a?pvs=21)\n",
      "\n",
      "[Highly Skilled Migrants and relocation](https://www.notion.so/Highly-Skilled-Migrants-and-relocation-6abfdf2cd7fb42f7928ae3ce2bf456ea?pvs=21)\n",
      "\n",
      "## How to lead at Blendle\n",
      "\n",
      "*Here are some tips and tools to help you become a great leader.*\n",
      "\n",
      "---\n",
      "\n",
      "[How to lead at Blendle ](https://www.notion.so/How-to-lead-at-Blendle-ef763b62ffa245f89d3236d8fd7af220?pvs=21)\n",
      "\n",
      "[Your check-list](https://www.notion.so/Your-check-list-c50695c16fa64364b43d09276156a47a?pvs=21)\n",
      "\n",
      "[Leading Feedback ](https://www.notion.so/Leading-Feedback-a2a3012d5a50479da0de91d69c9907d4?pvs=21)\n",
      "\n",
      "[Salary talks](https://www.notion.so/Salary-talks-9efcbcc1275a43ffbf1d426fa964b89b?pvs=21)\n",
      "\n",
      "[Hiring ](https://www.notion.so/Hiring-99c26e6f38904f0286747f45b43ad419?pvs=21)\n",
      "\n",
      "[Firing](https://www.notion.so/Firing-f98ec36633d34334b51239b4c13a7e65?pvs=21)\n",
      "\n",
      "[Party and study budget](https://www.notion.so/Party-and-study-budget-382a5a9943c94bb7878c74de3df76294?pvs=21)\n",
      "\n",
      "[Holidays](https://www.notion.so/Holidays-9fab2385dc1d4a64bea8bd96cbd4ef0f?pvs=21)\n",
      "\n",
      "[Sickness absence](https://www.notion.so/Sickness-absence-db069a4bef314a91813b71c8d6f8e589?pvs=21)\n",
      "\n",
      "[Personal User Guide](https://www.notion.so/Personal-User-Guide-a28e56e510d2480a88790df175e25ed1?pvs=21)\n",
      "\n",
      "[Soft shizzle](https://www.notion.so/Soft-shizzle-06b9a44915df44679c4fd8c7764b8b19?pvs=21)\n",
      "\n",
      "## About this document\n",
      "\n",
      "---\n",
      "\n",
      "*Lessons from three years of HR*\n",
      "\n",
      "[About this document and the author](https://www.notion.so/About-this-document-and-the-author-a6c10e474ee4400fb9c2d127283b4d15?pvs=21)\n"
     ]
    }
   ],
   "source": [
    "print(docs[0].page_content)"
   ]
  },
  {
   "cell_type": "code",
   "execution_count": 30,
   "metadata": {},
   "outputs": [],
   "source": []
  },
  {
   "cell_type": "code",
   "execution_count": null,
   "metadata": {},
   "outputs": [],
   "source": []
  }
 ],
 "metadata": {
  "kernelspec": {
   "display_name": "openai",
   "language": "python",
   "name": "python3"
  },
  "language_info": {
   "codemirror_mode": {
    "name": "ipython",
    "version": 3
   },
   "file_extension": ".py",
   "mimetype": "text/x-python",
   "name": "python",
   "nbconvert_exporter": "python",
   "pygments_lexer": "ipython3",
   "version": "3.11.4"
  },
  "orig_nbformat": 4
 },
 "nbformat": 4,
 "nbformat_minor": 2
}
