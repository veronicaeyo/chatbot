{
 "cells": [
  {
   "cell_type": "markdown",
   "metadata": {},
   "source": [
    "## Load Document $\\rightarrow$ Split Document $\\rightarrow$ Storage "
   ]
  },
  {
   "cell_type": "markdown",
   "metadata": {},
   "source": [
    "![steps](image.png)"
   ]
  },
  {
   "cell_type": "markdown",
   "metadata": {},
   "source": [
    "### Split Document "
   ]
  },
  {
   "cell_type": "code",
   "execution_count": 2,
   "metadata": {},
   "outputs": [],
   "source": [
    "from langchain.text_splitter import (\n",
    "    CharacterTextSplitter,\n",
    "    RecursiveCharacterTextSplitter,\n",
    ")"
   ]
  },
  {
   "cell_type": "code",
   "execution_count": 3,
   "metadata": {},
   "outputs": [],
   "source": [
    "chunk_size = 26\n",
    "chunk_overlap = 4"
   ]
  },
  {
   "cell_type": "code",
   "execution_count": 5,
   "metadata": {},
   "outputs": [],
   "source": [
    "r_splitter = RecursiveCharacterTextSplitter(\n",
    "    chunk_size=chunk_size, chunk_overlap=chunk_overlap\n",
    ")\n",
    "\n",
    "c_splitter = CharacterTextSplitter(chunk_size=chunk_size, chunk_overlap=chunk_overlap)"
   ]
  },
  {
   "cell_type": "code",
   "execution_count": 6,
   "metadata": {},
   "outputs": [],
   "source": [
    "text1 = 'abcdefghijklmnopqrstuvwxyz'"
   ]
  },
  {
   "cell_type": "code",
   "execution_count": 7,
   "metadata": {},
   "outputs": [
    {
     "data": {
      "text/plain": [
       "['abcdefghijklmnopqrstuvwxyz']"
      ]
     },
     "execution_count": 7,
     "metadata": {},
     "output_type": "execute_result"
    }
   ],
   "source": [
    "r_splitter.split_text(text1)"
   ]
  },
  {
   "cell_type": "code",
   "execution_count": 8,
   "metadata": {},
   "outputs": [
    {
     "data": {
      "text/plain": [
       "['abcdefghijklmnopqrstuvwxyz', 'wxyzveronica']"
      ]
     },
     "execution_count": 8,
     "metadata": {},
     "output_type": "execute_result"
    }
   ],
   "source": [
    "text2 = text1 + 'veronica'\n",
    "r_splitter.split_text(text2)"
   ]
  },
  {
   "cell_type": "code",
   "execution_count": 9,
   "metadata": {},
   "outputs": [],
   "source": [
    "text3 = \"a b c d e f g h i j k l m n o p q r s t u v w x y z\""
   ]
  },
  {
   "cell_type": "code",
   "execution_count": 10,
   "metadata": {},
   "outputs": [
    {
     "data": {
      "text/plain": [
       "['a b c d e f g h i j k l m', 'l m n o p q r s t u v w x', 'w x y z']"
      ]
     },
     "execution_count": 10,
     "metadata": {},
     "output_type": "execute_result"
    }
   ],
   "source": [
    "r_splitter.split_text(text3)"
   ]
  },
  {
   "cell_type": "code",
   "execution_count": 11,
   "metadata": {},
   "outputs": [
    {
     "data": {
      "text/plain": [
       "['a b c d e f g h i j k l m n o p q r s t u v w x y z']"
      ]
     },
     "execution_count": 11,
     "metadata": {},
     "output_type": "execute_result"
    }
   ],
   "source": [
    "c_splitter.split_text(text3)"
   ]
  },
  {
   "cell_type": "code",
   "execution_count": 12,
   "metadata": {},
   "outputs": [],
   "source": [
    "c_splitter = CharacterTextSplitter(\n",
    "    chunk_size=chunk_size, chunk_overlap=chunk_overlap, separator=\" \"\n",
    ")"
   ]
  },
  {
   "cell_type": "code",
   "execution_count": 13,
   "metadata": {},
   "outputs": [
    {
     "data": {
      "text/plain": [
       "['a b c d e f g h i j k l m', 'l m n o p q r s t u v w x', 'w x y z']"
      ]
     },
     "execution_count": 13,
     "metadata": {},
     "output_type": "execute_result"
    }
   ],
   "source": [
    "c_splitter.split_text(text3)"
   ]
  },
  {
   "cell_type": "code",
   "execution_count": null,
   "metadata": {},
   "outputs": [],
   "source": []
  },
  {
   "cell_type": "code",
   "execution_count": 14,
   "metadata": {},
   "outputs": [],
   "source": [
    "some_text = \"\"\"When writing documents, writers will use document structure to group content. \\\n",
    "This can convey to the reader, which idea's are related. For example, closely related ideas \\\n",
    "are in sentances. Similar ideas are in paragraphs. Paragraphs form a document. \\n\\n  \\\n",
    "Paragraphs are often delimited with a carriage return or two carriage returns. \\\n",
    "Carriage returns are the \"backslash n\" you see embedded in this string. \\\n",
    "Sentences have a period at the end, but also, have a space.\\\n",
    "and words are separated by space.\"\"\""
   ]
  },
  {
   "cell_type": "code",
   "execution_count": 15,
   "metadata": {},
   "outputs": [
    {
     "data": {
      "text/plain": [
       "[\"When writing documents, writers will use document structure to group content. This can convey to the reader, which idea's are related. For example,\",\n",
       " 'closely related ideas are in sentances. Similar ideas are in paragraphs. Paragraphs form a document.',\n",
       " 'Paragraphs are often delimited with a carriage return or two carriage returns. Carriage returns are the \"backslash n\" you see embedded in this',\n",
       " 'this string. Sentences have a period at the end, but also, have a space.and words are separated by space.']"
      ]
     },
     "execution_count": 15,
     "metadata": {},
     "output_type": "execute_result"
    }
   ],
   "source": [
    "r_splitter = RecursiveCharacterTextSplitter(\n",
    "    chunk_size=150, chunk_overlap=5, separators=[\"\\n\\n\", \"\\n\", \"\\. \", \" \", \"\"]\n",
    ")\n",
    "r_splitter.split_text(some_text)"
   ]
  },
  {
   "cell_type": "code",
   "execution_count": 16,
   "metadata": {},
   "outputs": [
    {
     "data": {
      "text/plain": [
       "4"
      ]
     },
     "execution_count": 16,
     "metadata": {},
     "output_type": "execute_result"
    }
   ],
   "source": [
    "len(r_splitter.split_text(some_text))"
   ]
  },
  {
   "cell_type": "code",
   "execution_count": 17,
   "metadata": {},
   "outputs": [
    {
     "data": {
      "text/plain": [
       "[\"When writing documents, writers will use document structure to group content. This can convey to the reader, which idea's are related. For example,\",\n",
       " 'closely related ideas are in sentances. Similar ideas are in paragraphs. Paragraphs form a document.',\n",
       " 'Paragraphs are often delimited with a carriage return or two carriage returns. Carriage returns are the \"backslash n\" you see embedded in this',\n",
       " 'this string. Sentences have a period at the end, but also, have a space.and words are separated by space.']"
      ]
     },
     "execution_count": 17,
     "metadata": {},
     "output_type": "execute_result"
    }
   ],
   "source": [
    "r_splitter = RecursiveCharacterTextSplitter(\n",
    "    chunk_size=150, chunk_overlap=5, separators=[\"\\n\\n\", \"\\n\", \"(?<=\\. )\", \" \", \"\"]\n",
    ")\n",
    "r_splitter.split_text(some_text)"
   ]
  },
  {
   "cell_type": "code",
   "execution_count": 40,
   "metadata": {},
   "outputs": [
    {
     "data": {
      "text/plain": [
       "4"
      ]
     },
     "execution_count": 40,
     "metadata": {},
     "output_type": "execute_result"
    }
   ],
   "source": [
    "len(r_splitter.split_text(some_text))"
   ]
  },
  {
   "cell_type": "code",
   "execution_count": null,
   "metadata": {},
   "outputs": [],
   "source": []
  },
  {
   "cell_type": "markdown",
   "metadata": {},
   "source": [
    "#### Split PDF document"
   ]
  },
  {
   "cell_type": "code",
   "execution_count": 18,
   "metadata": {},
   "outputs": [],
   "source": [
    "from langchain.document_loaders import PyPDFLoader\n",
    "\n",
    "loader = PyPDFLoader(\"docs/machinelearning-lecture01.pdf\")\n",
    "pages = loader.load()"
   ]
  },
  {
   "cell_type": "code",
   "execution_count": 46,
   "metadata": {},
   "outputs": [
    {
     "data": {
      "text/plain": [
       "22"
      ]
     },
     "execution_count": 46,
     "metadata": {},
     "output_type": "execute_result"
    }
   ],
   "source": [
    "len(pages)"
   ]
  },
  {
   "cell_type": "code",
   "execution_count": 19,
   "metadata": {},
   "outputs": [],
   "source": [
    "text_splitter = CharacterTextSplitter(\n",
    "    separator=\"\\n\", chunk_size=1000, chunk_overlap=150, length_function=len\n",
    ")"
   ]
  },
  {
   "cell_type": "code",
   "execution_count": 20,
   "metadata": {},
   "outputs": [],
   "source": [
    "docs = text_splitter.split_documents(pages)"
   ]
  },
  {
   "cell_type": "code",
   "execution_count": 49,
   "metadata": {},
   "outputs": [
    {
     "name": "stdout",
     "output_type": "stream",
     "text": [
      "77\n"
     ]
    }
   ],
   "source": [
    "print(len(docs))"
   ]
  },
  {
   "cell_type": "code",
   "execution_count": 54,
   "metadata": {},
   "outputs": [
    {
     "data": {
      "text/plain": [
       "{'source': 'docs/machinelearning-lecture01.pdf', 'page': 0}"
      ]
     },
     "execution_count": 54,
     "metadata": {},
     "output_type": "execute_result"
    }
   ],
   "source": [
    "docs[0].metadata"
   ]
  },
  {
   "cell_type": "code",
   "execution_count": 51,
   "metadata": {},
   "outputs": [
    {
     "name": "stdout",
     "output_type": "stream",
     "text": [
      "Similarly, every time you write a check, I ac tually don't know the number for this, but a \n",
      "significant fraction of checks that you write are processed by a learning algorithm that's \n",
      "learned to read the digits, so the dolla r amount that you wrote down on your check. So \n",
      "every time you write a check, there's anot her learning algorithm that you're probably \n",
      "using without even being aware of it.  \n",
      "If you use a credit card, or I know at least one phone compan y was doing this, and lots of \n",
      "companies like eBay as well that do electr onic transactions, there's a good chance that \n",
      "there's a learning algorithm in the backgr ound trying to figure out if, say, your credit \n",
      "card's been stolen or if someone's engaging in a fraudulent transaction.  \n",
      "If you use a website like Amazon or Netflix that will often recommend books for you to \n",
      "buy or movies for you to rent or whatever , these are other examples of learning\n"
     ]
    }
   ],
   "source": [
    "print(docs[10].page_content)"
   ]
  },
  {
   "cell_type": "code",
   "execution_count": 52,
   "metadata": {},
   "outputs": [
    {
     "name": "stdout",
     "output_type": "stream",
     "text": [
      "{'source': 'docs/machinelearning-lecture01.pdf', 'page': 3}\n"
     ]
    }
   ],
   "source": [
    "print(docs[10].metadata)"
   ]
  },
  {
   "cell_type": "code",
   "execution_count": null,
   "metadata": {},
   "outputs": [],
   "source": []
  },
  {
   "cell_type": "markdown",
   "metadata": {},
   "source": [
    "#### Split Notion Document"
   ]
  },
  {
   "cell_type": "code",
   "execution_count": 21,
   "metadata": {},
   "outputs": [],
   "source": [
    "from langchain.document_loaders import NotionDirectoryLoader\n",
    "\n",
    "loader = NotionDirectoryLoader(\"docs/Notion_DB\")\n",
    "notion_db = loader.load()"
   ]
  },
  {
   "cell_type": "code",
   "execution_count": 56,
   "metadata": {},
   "outputs": [
    {
     "data": {
      "text/plain": [
       "1"
      ]
     },
     "execution_count": 56,
     "metadata": {},
     "output_type": "execute_result"
    }
   ],
   "source": [
    "len(notion_db)"
   ]
  },
  {
   "cell_type": "code",
   "execution_count": 57,
   "metadata": {},
   "outputs": [
    {
     "data": {
      "text/plain": [
       "7"
      ]
     },
     "execution_count": 57,
     "metadata": {},
     "output_type": "execute_result"
    }
   ],
   "source": [
    "docs = text_splitter.split_documents(notion_db)\n",
    "len(docs)"
   ]
  },
  {
   "cell_type": "code",
   "execution_count": 59,
   "metadata": {},
   "outputs": [
    {
     "name": "stdout",
     "output_type": "stream",
     "text": [
      "We've made this document public because we want to learn from you. We're very much interested in your feedback (including weeding out typo's and Dunglish ;)). Email us at hr@blendle.com. If you're starting your own company or if you're curious as to how we do things at Blendle, we hope that our employee handbook inspires you.\n",
      "If you want to work at Blendle you can check our [job ads here](https://blendle.homerun.co/). If you want to be kept in the loop about Blendle, you can sign up for [our behind the scenes newsletter](https://blendle.homerun.co/yes-keep-me-posted/tr/apply?token=8092d4128c306003d97dd3821bad06f2).\n",
      "## Blendle general\n",
      "*Information gap closing in 3... 2... 1...*\n",
      "---\n",
      "[To Do/Read in your first week](https://www.notion.so/To-Do-Read-in-your-first-week-f0279ca808514905bcce4514a4905d90?pvs=21)\n",
      "[History](https://www.notion.so/History-1bdf308cf4f84b9484af3ece21930110?pvs=21)\n",
      "[DNA & culture](https://www.notion.so/DNA-culture-2e6d462451ee4100a0854fe4307b99aa?pvs=21)\n"
     ]
    }
   ],
   "source": [
    "print(docs[1].page_content)"
   ]
  },
  {
   "cell_type": "markdown",
   "metadata": {},
   "source": [
    "#### Context Aware splitting"
   ]
  },
  {
   "cell_type": "code",
   "execution_count": 60,
   "metadata": {},
   "outputs": [],
   "source": [
    "from langchain.text_splitter import MarkdownHeaderTextSplitter"
   ]
  },
  {
   "cell_type": "code",
   "execution_count": 61,
   "metadata": {},
   "outputs": [],
   "source": [
    "headers_to_split_on = [\n",
    "    (\"#\", \"Header 1\"),\n",
    "    (\"##\", \"Header 2\"),\n",
    "    (\"###\", \"Header 3\"),\n",
    "]"
   ]
  },
  {
   "cell_type": "code",
   "execution_count": 63,
   "metadata": {},
   "outputs": [],
   "source": [
    "markdown_document = \"\"\"# Title\\n\\n \\\n",
    "## Chapter 1\\n\\n \\\n",
    "Hi this is Jim\\n\\n Hi this is Joe\\n\\n \\\n",
    "### Section \\n\\n \\\n",
    "Hi this is Lance \\n\\n \n",
    "## Chapter 2\\n\\n \\\n",
    "Hi this is Molly\"\"\""
   ]
  },
  {
   "cell_type": "code",
   "execution_count": 64,
   "metadata": {},
   "outputs": [],
   "source": [
    "markdown_splitter = MarkdownHeaderTextSplitter(headers_to_split_on=headers_to_split_on)\n",
    "md_header_splits = markdown_splitter.split_text(markdown_document)"
   ]
  },
  {
   "cell_type": "code",
   "execution_count": 67,
   "metadata": {},
   "outputs": [
    {
     "data": {
      "text/plain": [
       "'Hi this is Lance'"
      ]
     },
     "execution_count": 67,
     "metadata": {},
     "output_type": "execute_result"
    }
   ],
   "source": [
    "md_header_splits[1].page_content"
   ]
  },
  {
   "cell_type": "code",
   "execution_count": 68,
   "metadata": {},
   "outputs": [
    {
     "data": {
      "text/plain": [
       "{'Header 1': 'Title', 'Header 2': 'Chapter 1', 'Header 3': 'Section'}"
      ]
     },
     "execution_count": 68,
     "metadata": {},
     "output_type": "execute_result"
    }
   ],
   "source": [
    "md_header_splits[1].metadata "
   ]
  },
  {
   "cell_type": "code",
   "execution_count": null,
   "metadata": {},
   "outputs": [],
   "source": []
  },
  {
   "cell_type": "code",
   "execution_count": 69,
   "metadata": {},
   "outputs": [
    {
     "data": {
      "text/plain": [
       "[Document(page_content=\"# Blendle's Employee Handbook\\n\\nThis is a living document with everything we've learned working with people while running a startup. And, of course, we continue to learn. Therefore it's a document that will continue to change. \\n\\n**Everything related to working at Blendle and the people of Blendle, made public.**\\n\\nThese are the lessons from three years of working with the people of Blendle. It contains everything from [how our leaders lead](https://www.notion.so/ecfb7e647136468a9a0a32f1771a8f52?pvs=21) to [how we increase salaries](https://www.notion.so/Salary-Review-e11b6161c6d34f5c9568bb3e83ed96b6?pvs=21), from [how we hire](https://www.notion.so/Hiring-451bbcfe8d9b49438c0633326bb7af0a?pvs=21) and [fire](https://www.notion.so/Firing-5567687a2000496b8412e53cd58eed9d?pvs=21) to [how we think people should give each other feedback](https://www.notion.so/Our-Feedback-Process-eb64f1de796b4350aeab3bc068e3801f?pvs=21) — and much more.\\n\\nWe've made this document public because we want to learn from you. We're very much interested in your feedback (including weeding out typo's and Dunglish ;)). Email us at hr@blendle.com. If you're starting your own company or if you're curious as to how we do things at Blendle, we hope that our employee handbook inspires you.\\n\\nIf you want to work at Blendle you can check our [job ads here](https://blendle.homerun.co/). If you want to be kept in the loop about Blendle, you can sign up for [our behind the scenes newsletter](https://blendle.homerun.co/yes-keep-me-posted/tr/apply?token=8092d4128c306003d97dd3821bad06f2).\\n\\n## Blendle general\\n\\n*Information gap closing in 3... 2... 1...*\\n\\n---\\n\\n[To Do/Read in your first week](https://www.notion.so/To-Do-Read-in-your-first-week-f0279ca808514905bcce4514a4905d90?pvs=21)\\n\\n[History](https://www.notion.so/History-1bdf308cf4f84b9484af3ece21930110?pvs=21)\\n\\n[DNA & culture](https://www.notion.so/DNA-culture-2e6d462451ee4100a0854fe4307b99aa?pvs=21)\\n\\n[General & practical ](https://www.notion.so/General-practical-3325144f20664d3abe9d4833e4945912?pvs=21)\\n\\n## People operations\\n\\n*You can tell a company's DNA by looking at how they deal with the practical stuff.*  \\n\\n---\\n\\n[Office](https://www.notion.so/Office-0b5b64a03c364593a882d13da1dfabd4?pvs=21)\\n\\n[Time off: holidays and national holidays](https://www.notion.so/Time-off-holidays-and-national-holidays-c1f431c5c2ed480ab0033af305fdd8d3?pvs=21)\\n\\n[Calling in sick/better](https://www.notion.so/Calling-in-sick-better-c6b70d9d8e06471ba47956207695c87a?pvs=21)\\n\\n[Perks and benefits](https://www.notion.so/Perks-and-benefits-3fb6161582664c16a0158987df22193e?pvs=21)\\n\\n[Travel costs and reimbursements](https://www.notion.so/Travel-costs-and-reimbursements-bfc7ca27d17e40098ce3c9e0dd5b9bfd?pvs=21)\\n\\n[Parenthood](https://www.notion.so/Parenthood-56be2079cf8847e8a8c3f99f1f3fc4b9?pvs=21)\\n\\n## People topics\\n\\n*Themes we care about.*\\n\\n---\\n\\n[Blendle Social Code](https://www.notion.so/Blendle-Social-Code-e538c73c60e7411dbea97a2a270df966?pvs=21)\\n\\n[Diversity and inclusion](https://www.notion.so/Diversity-and-inclusion-d2d10e83dcb3488d9215f4a916f11e56?pvs=21)\\n\\n[#letstalkaboutstress](https://www.notion.so/letstalkaboutstress-7dbe4c2848034138a664973e2d8e174f?pvs=21)\\n\\n## Feedback and development\\n\\n*The number 1 reason for people to work at Blendle is growth and learning from smart people.*\\n\\n---\\n\\n[Your 1st month ](https://www.notion.so/Your-1st-month-518a12cbb08448629e4153708a77f470?pvs=21)\\n\\n[Goals](https://www.notion.so/Goals-23fc8c02b39647cc95b4400c9caae4cc?pvs=21)\\n\\n[Feedback cycle](https://www.notion.so/Feedback-cycle-9fb44c57c6cd4dd7befc1e0f93e36193?pvs=21)\\n\\n[The Matrix™ (job profiles)](https://www.notion.so/The-Matrix-job-profiles-caa2ffbcb7bd4e30907ebd981f992d3d?pvs=21)\\n\\n[Blendle library](https://www.notion.so/Blendle-library-4b3f5b985aac4783b14d3af8d745e771?pvs=21)\\n\\n## **Hiring**\\n\\n*The coolest and most impactful thing when done right.*\\n\\n---\\n\\n[Rating systems](https://www.notion.so/Rating-systems-e91632fa767940cd9771d1d0400e693a?pvs=21)\\n\\n[Getting people in (branding&sourcing)](https://www.notion.so/Getting-people-in-branding-sourcing-17bb0c4acb0c44de8a01ee1c9c93ef1a?pvs=21)\\n\\n[Highly Skilled Migrants and relocation](https://www.notion.so/Highly-Skilled-Migrants-and-relocation-6abfdf2cd7fb42f7928ae3ce2bf456ea?pvs=21)\\n\\n## How to lead at Blendle\\n\\n*Here are some tips and tools to help you become a great leader.*\\n\\n---\\n\\n[How to lead at Blendle ](https://www.notion.so/How-to-lead-at-Blendle-ef763b62ffa245f89d3236d8fd7af220?pvs=21)\\n\\n[Your check-list](https://www.notion.so/Your-check-list-c50695c16fa64364b43d09276156a47a?pvs=21)\\n\\n[Leading Feedback ](https://www.notion.so/Leading-Feedback-a2a3012d5a50479da0de91d69c9907d4?pvs=21)\\n\\n[Salary talks](https://www.notion.so/Salary-talks-9efcbcc1275a43ffbf1d426fa964b89b?pvs=21)\\n\\n[Hiring ](https://www.notion.so/Hiring-99c26e6f38904f0286747f45b43ad419?pvs=21)\\n\\n[Firing](https://www.notion.so/Firing-f98ec36633d34334b51239b4c13a7e65?pvs=21)\\n\\n[Party and study budget](https://www.notion.so/Party-and-study-budget-382a5a9943c94bb7878c74de3df76294?pvs=21)\\n\\n[Holidays](https://www.notion.so/Holidays-9fab2385dc1d4a64bea8bd96cbd4ef0f?pvs=21)\\n\\n[Sickness absence](https://www.notion.so/Sickness-absence-db069a4bef314a91813b71c8d6f8e589?pvs=21)\\n\\n[Personal User Guide](https://www.notion.so/Personal-User-Guide-a28e56e510d2480a88790df175e25ed1?pvs=21)\\n\\n[Soft shizzle](https://www.notion.so/Soft-shizzle-06b9a44915df44679c4fd8c7764b8b19?pvs=21)\\n\\n## About this document\\n\\n---\\n\\n*Lessons from three years of HR*\\n\\n[About this document and the author](https://www.notion.so/About-this-document-and-the-author-a6c10e474ee4400fb9c2d127283b4d15?pvs=21)\", metadata={'source': \"docs/Notion_DB/Blendle's Employee Handbook 8a6917052a0742e68d842b89a76f28b5.md\"})]"
      ]
     },
     "execution_count": 69,
     "metadata": {},
     "output_type": "execute_result"
    }
   ],
   "source": [
    "notion_db"
   ]
  },
  {
   "cell_type": "code",
   "execution_count": 71,
   "metadata": {},
   "outputs": [],
   "source": [
    "notion_docs = markdown_splitter.split_text(notion_db[0].page_content)"
   ]
  },
  {
   "cell_type": "code",
   "execution_count": 74,
   "metadata": {},
   "outputs": [
    {
     "name": "stdout",
     "output_type": "stream",
     "text": [
      "*Information gap closing in 3... 2... 1...*  \n",
      "---  \n",
      "[To Do/Read in your first week](https://www.notion.so/To-Do-Read-in-your-first-week-f0279ca808514905bcce4514a4905d90?pvs=21)  \n",
      "[History](https://www.notion.so/History-1bdf308cf4f84b9484af3ece21930110?pvs=21)  \n",
      "[DNA & culture](https://www.notion.so/DNA-culture-2e6d462451ee4100a0854fe4307b99aa?pvs=21)  \n",
      "[General & practical ](https://www.notion.so/General-practical-3325144f20664d3abe9d4833e4945912?pvs=21)\n",
      "\n",
      "\n",
      "{'Header 1': \"Blendle's Employee Handbook\", 'Header 2': 'Blendle general'}\n"
     ]
    }
   ],
   "source": [
    "print(notion_docs[1].page_content)\n",
    "print(\"\\n\")\n",
    "print(notion_docs[1].metadata)"
   ]
  },
  {
   "cell_type": "code",
   "execution_count": null,
   "metadata": {},
   "outputs": [],
   "source": []
  },
  {
   "cell_type": "markdown",
   "metadata": {},
   "source": [
    "#### What of multiple markdowns in Notion DB?"
   ]
  },
  {
   "cell_type": "code",
   "execution_count": 75,
   "metadata": {},
   "outputs": [],
   "source": [
    "from langchain.document_loaders import NotionDirectoryLoader\n",
    "\n",
    "loader = NotionDirectoryLoader(\"docs/Notion_DB\")\n",
    "notion_db = loader.load()"
   ]
  },
  {
   "cell_type": "code",
   "execution_count": 76,
   "metadata": {},
   "outputs": [
    {
     "data": {
      "text/plain": [
       "2"
      ]
     },
     "execution_count": 76,
     "metadata": {},
     "output_type": "execute_result"
    }
   ],
   "source": [
    "len(notion_db)"
   ]
  },
  {
   "cell_type": "code",
   "execution_count": 87,
   "metadata": {},
   "outputs": [
    {
     "name": "stdout",
     "output_type": "stream",
     "text": [
      "# Title\n",
      "\n",
      "## Chapter 1\n",
      "\n",
      "Hi this is Jim\\n\\n Hi this is Joe\n",
      "\n",
      "### Section\n",
      "\n",
      "Hi this is Lance \\n\\n\n",
      "\n",
      "## Chapter 2\n",
      "\n",
      "Hi this is Molly\n",
      " # Blendle's Employee Handbook\n",
      "\n",
      "This is a living document with everything we've learned working with people while running a startup. And, of course, we continue to learn. Therefore it's a document that will continue to change. \n",
      "\n",
      "**Everything related to working at Blendle and the people of Blendle, made public.**\n",
      "\n",
      "These are the lessons from three years of working with the people of Blendle. It contains everything from [how our leaders lead](https://www.notion.so/ecfb7e647136468a9a0a32f1771a8f52?pvs=21) to [how we increase salaries](https://www.notion.so/Salary-Review-e11b6161c6d34f5c9568bb3e83ed96b6?pvs=21), from [how we hire](https://www.notion.so/Hiring-451bbcfe8d9b49438c0633326bb7af0a?pvs=21) and [fire](https://www.notion.so/Firing-5567687a2000496b8412e53cd58eed9d?pvs=21) to [how we think people should give each other feedback](https://www.notion.so/Our-Feedback-Process-eb64f1de796b4350aeab3bc068e3801f?pvs=21) — and much more.\n",
      "\n",
      "We've made this document public because we want to learn from you. We're very much interested in your feedback (including weeding out typo's and Dunglish ;)). Email us at hr@blendle.com. If you're starting your own company or if you're curious as to how we do things at Blendle, we hope that our employee handbook inspires you.\n",
      "\n",
      "If you want to work at Blendle you can check our [job ads here](https://blendle.homerun.co/). If you want to be kept in the loop about Blendle, you can sign up for [our behind the scenes newsletter](https://blendle.homerun.co/yes-keep-me-posted/tr/apply?token=8092d4128c306003d97dd3821bad06f2).\n",
      "\n",
      "## Blendle general\n",
      "\n",
      "*Information gap closing in 3... 2... 1...*\n",
      "\n",
      "---\n",
      "\n",
      "[To Do/Read in your first week](https://www.notion.so/To-Do-Read-in-your-first-week-f0279ca808514905bcce4514a4905d90?pvs=21)\n",
      "\n",
      "[History](https://www.notion.so/History-1bdf308cf4f84b9484af3ece21930110?pvs=21)\n",
      "\n",
      "[DNA & culture](https://www.notion.so/DNA-culture-2e6d462451ee4100a0854fe4307b99aa?pvs=21)\n",
      "\n",
      "[General & practical ](https://www.notion.so/General-practical-3325144f20664d3abe9d4833e4945912?pvs=21)\n",
      "\n",
      "## People operations\n",
      "\n",
      "*You can tell a company's DNA by looking at how they deal with the practical stuff.*  \n",
      "\n",
      "---\n",
      "\n",
      "[Office](https://www.notion.so/Office-0b5b64a03c364593a882d13da1dfabd4?pvs=21)\n",
      "\n",
      "[Time off: holidays and national holidays](https://www.notion.so/Time-off-holidays-and-national-holidays-c1f431c5c2ed480ab0033af305fdd8d3?pvs=21)\n",
      "\n",
      "[Calling in sick/better](https://www.notion.so/Calling-in-sick-better-c6b70d9d8e06471ba47956207695c87a?pvs=21)\n",
      "\n",
      "[Perks and benefits](https://www.notion.so/Perks-and-benefits-3fb6161582664c16a0158987df22193e?pvs=21)\n",
      "\n",
      "[Travel costs and reimbursements](https://www.notion.so/Travel-costs-and-reimbursements-bfc7ca27d17e40098ce3c9e0dd5b9bfd?pvs=21)\n",
      "\n",
      "[Parenthood](https://www.notion.so/Parenthood-56be2079cf8847e8a8c3f99f1f3fc4b9?pvs=21)\n",
      "\n",
      "## People topics\n",
      "\n",
      "*Themes we care about.*\n",
      "\n",
      "---\n",
      "\n",
      "[Blendle Social Code](https://www.notion.so/Blendle-Social-Code-e538c73c60e7411dbea97a2a270df966?pvs=21)\n",
      "\n",
      "[Diversity and inclusion](https://www.notion.so/Diversity-and-inclusion-d2d10e83dcb3488d9215f4a916f11e56?pvs=21)\n",
      "\n",
      "[#letstalkaboutstress](https://www.notion.so/letstalkaboutstress-7dbe4c2848034138a664973e2d8e174f?pvs=21)\n",
      "\n",
      "## Feedback and development\n",
      "\n",
      "*The number 1 reason for people to work at Blendle is growth and learning from smart people.*\n",
      "\n",
      "---\n",
      "\n",
      "[Your 1st month ](https://www.notion.so/Your-1st-month-518a12cbb08448629e4153708a77f470?pvs=21)\n",
      "\n",
      "[Goals](https://www.notion.so/Goals-23fc8c02b39647cc95b4400c9caae4cc?pvs=21)\n",
      "\n",
      "[Feedback cycle](https://www.notion.so/Feedback-cycle-9fb44c57c6cd4dd7befc1e0f93e36193?pvs=21)\n",
      "\n",
      "[The Matrix™ (job profiles)](https://www.notion.so/The-Matrix-job-profiles-caa2ffbcb7bd4e30907ebd981f992d3d?pvs=21)\n",
      "\n",
      "[Blendle library](https://www.notion.so/Blendle-library-4b3f5b985aac4783b14d3af8d745e771?pvs=21)\n",
      "\n",
      "## **Hiring**\n",
      "\n",
      "*The coolest and most impactful thing when done right.*\n",
      "\n",
      "---\n",
      "\n",
      "[Rating systems](https://www.notion.so/Rating-systems-e91632fa767940cd9771d1d0400e693a?pvs=21)\n",
      "\n",
      "[Getting people in (branding&sourcing)](https://www.notion.so/Getting-people-in-branding-sourcing-17bb0c4acb0c44de8a01ee1c9c93ef1a?pvs=21)\n",
      "\n",
      "[Highly Skilled Migrants and relocation](https://www.notion.so/Highly-Skilled-Migrants-and-relocation-6abfdf2cd7fb42f7928ae3ce2bf456ea?pvs=21)\n",
      "\n",
      "## How to lead at Blendle\n",
      "\n",
      "*Here are some tips and tools to help you become a great leader.*\n",
      "\n",
      "---\n",
      "\n",
      "[How to lead at Blendle ](https://www.notion.so/How-to-lead-at-Blendle-ef763b62ffa245f89d3236d8fd7af220?pvs=21)\n",
      "\n",
      "[Your check-list](https://www.notion.so/Your-check-list-c50695c16fa64364b43d09276156a47a?pvs=21)\n",
      "\n",
      "[Leading Feedback ](https://www.notion.so/Leading-Feedback-a2a3012d5a50479da0de91d69c9907d4?pvs=21)\n",
      "\n",
      "[Salary talks](https://www.notion.so/Salary-talks-9efcbcc1275a43ffbf1d426fa964b89b?pvs=21)\n",
      "\n",
      "[Hiring ](https://www.notion.so/Hiring-99c26e6f38904f0286747f45b43ad419?pvs=21)\n",
      "\n",
      "[Firing](https://www.notion.so/Firing-f98ec36633d34334b51239b4c13a7e65?pvs=21)\n",
      "\n",
      "[Party and study budget](https://www.notion.so/Party-and-study-budget-382a5a9943c94bb7878c74de3df76294?pvs=21)\n",
      "\n",
      "[Holidays](https://www.notion.so/Holidays-9fab2385dc1d4a64bea8bd96cbd4ef0f?pvs=21)\n",
      "\n",
      "[Sickness absence](https://www.notion.so/Sickness-absence-db069a4bef314a91813b71c8d6f8e589?pvs=21)\n",
      "\n",
      "[Personal User Guide](https://www.notion.so/Personal-User-Guide-a28e56e510d2480a88790df175e25ed1?pvs=21)\n",
      "\n",
      "[Soft shizzle](https://www.notion.so/Soft-shizzle-06b9a44915df44679c4fd8c7764b8b19?pvs=21)\n",
      "\n",
      "## About this document\n",
      "\n",
      "---\n",
      "\n",
      "*Lessons from three years of HR*\n",
      "\n",
      "[About this document and the author](https://www.notion.so/About-this-document-and-the-author-a6c10e474ee4400fb9c2d127283b4d15?pvs=21)\n"
     ]
    }
   ],
   "source": [
    "notion_txt = \" \".join([db.page_content for db in notion_db])\n",
    "print(notion_txt)"
   ]
  },
  {
   "cell_type": "code",
   "execution_count": 88,
   "metadata": {},
   "outputs": [],
   "source": [
    "notion_docs = markdown_splitter.split_text(notion_txt)"
   ]
  },
  {
   "cell_type": "code",
   "execution_count": 90,
   "metadata": {},
   "outputs": [
    {
     "name": "stdout",
     "output_type": "stream",
     "text": [
      "This is a living document with everything we've learned working with people while running a startup. And, of course, we continue to learn. Therefore it's a document that will continue to change.  \n",
      "**Everything related to working at Blendle and the people of Blendle, made public.**  \n",
      "These are the lessons from three years of working with the people of Blendle. It contains everything from [how our leaders lead](https://www.notion.so/ecfb7e647136468a9a0a32f1771a8f52?pvs=21) to [how we increase salaries](https://www.notion.so/Salary-Review-e11b6161c6d34f5c9568bb3e83ed96b6?pvs=21), from [how we hire](https://www.notion.so/Hiring-451bbcfe8d9b49438c0633326bb7af0a?pvs=21) and [fire](https://www.notion.so/Firing-5567687a2000496b8412e53cd58eed9d?pvs=21) to [how we think people should give each other feedback](https://www.notion.so/Our-Feedback-Process-eb64f1de796b4350aeab3bc068e3801f?pvs=21) — and much more.  \n",
      "We've made this document public because we want to learn from you. We're very much interested in your feedback (including weeding out typo's and Dunglish ;)). Email us at hr@blendle.com. If you're starting your own company or if you're curious as to how we do things at Blendle, we hope that our employee handbook inspires you.  \n",
      "If you want to work at Blendle you can check our [job ads here](https://blendle.homerun.co/). If you want to be kept in the loop about Blendle, you can sign up for [our behind the scenes newsletter](https://blendle.homerun.co/yes-keep-me-posted/tr/apply?token=8092d4128c306003d97dd3821bad06f2).\n",
      "\n",
      "\n",
      "{'Header 1': \"Blendle's Employee Handbook\"}\n"
     ]
    }
   ],
   "source": [
    "print(notion_docs[3].page_content)\n",
    "print(\"\\n\")\n",
    "print(notion_docs[3].metadata)"
   ]
  },
  {
   "cell_type": "code",
   "execution_count": null,
   "metadata": {},
   "outputs": [],
   "source": []
  },
  {
   "cell_type": "markdown",
   "metadata": {},
   "source": [
    "#### Token Splitting"
   ]
  },
  {
   "cell_type": "code",
   "execution_count": 106,
   "metadata": {},
   "outputs": [],
   "source": [
    "from langchain.text_splitter import TokenTextSplitter\n",
    "\n",
    "text_splitter = TokenTextSplitter(chunk_size=3, chunk_overlap=0)\n",
    "a_splitter = RecursiveCharacterTextSplitter(chunk_size=10, chunk_overlap=0)"
   ]
  },
  {
   "cell_type": "code",
   "execution_count": 107,
   "metadata": {},
   "outputs": [
    {
     "data": {
      "text/plain": [
       "['Veronica is', ' a senior data', ' scientist']"
      ]
     },
     "execution_count": 107,
     "metadata": {},
     "output_type": "execute_result"
    }
   ],
   "source": [
    "text_splitter.split_text(\"Veronica is a senior data scientist\")"
   ]
  },
  {
   "cell_type": "code",
   "execution_count": 103,
   "metadata": {},
   "outputs": [
    {
     "data": {
      "text/plain": [
       "['Veronica', 'is a', 'senior', 'data', 'scientist']"
      ]
     },
     "execution_count": 103,
     "metadata": {},
     "output_type": "execute_result"
    }
   ],
   "source": [
    "a_splitter.split_text(\"Veronica is a senior data scientist\")"
   ]
  },
  {
   "cell_type": "code",
   "execution_count": null,
   "metadata": {},
   "outputs": [],
   "source": []
  }
 ],
 "metadata": {
  "kernelspec": {
   "display_name": "openai",
   "language": "python",
   "name": "python3"
  },
  "language_info": {
   "codemirror_mode": {
    "name": "ipython",
    "version": 3
   },
   "file_extension": ".py",
   "mimetype": "text/x-python",
   "name": "python",
   "nbconvert_exporter": "python",
   "pygments_lexer": "ipython3",
   "version": "3.11.4"
  },
  "orig_nbformat": 4
 },
 "nbformat": 4,
 "nbformat_minor": 2
}
